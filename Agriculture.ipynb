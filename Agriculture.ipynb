{
  "nbformat": 4,
  "nbformat_minor": 0,
  "metadata": {
    "colab": {
      "name": "Agriculture.ipynb",
      "version": "0.3.2",
      "provenance": [],
      "collapsed_sections": []
    },
    "kernelspec": {
      "name": "python3",
      "display_name": "Python 3"
    }
  },
  "cells": [
    {
      "cell_type": "markdown",
      "metadata": {
        "id": "view-in-github",
        "colab_type": "text"
      },
      "source": [
        "[View in Colaboratory](https://colab.research.google.com/github/chanthony/IndiaAgriculture/blob/master/Agriculture.ipynb)"
      ]
    },
    {
      "metadata": {
        "id": "sMnVL0TaeVP7",
        "colab_type": "text"
      },
      "cell_type": "markdown",
      "source": [
        "# Introduction\n",
        "\n",
        "Computer science and data science in particular has spread into many fields and aspects of life. One of the aspects which has not had much exposure to data science is agriculture. In this project we attempted to apply data science to better understand agriculture and in particular the production of cereals. \n",
        "\n",
        "Cereals are what consumers usually think of as grains such as wheat, rice, or even corn. This family of crops makes up a significant portion of food consumption around the world as well as having applications such as ethanol production. Their prevalence in our daily lives is part of what makes study about their production so interesting.\n",
        "\n",
        "In this project we attempted to build a predictive model to take in various aspects of a countries agricultural industry and predict cereal production for that country. By studying these models we can start to make some observations regarding how these aspects relate to agriculture"
      ]
    },
    {
      "metadata": {
        "id": "iM89Bnq3f6CA",
        "colab_type": "text"
      },
      "cell_type": "markdown",
      "source": [
        "# Data Set\n",
        "\n",
        "For this project we used data  from the World Bank as part of their World Development Indicators data set. You can explore that dataset on your own [here](http://databank.worldbank.org/data/reports.aspx?source=world-development-indicators). The data set has over 1500 different features for 241 countries stretching as far back as 1960. These features describe the countries in many aspects ranging from the economy to environmental characteristics. For this data set we selected a subset of variables to consider that pertained to agriculture.\n",
        "\n",
        "Each row in the dataframe is the value for a given indicator for a specific country and year combination. The columns are the country code, the year, and the indicator code as well as the value for the given indicator. Since we are predicting for each country we will need to transform the data set so country year combinations are combined into a single row rather than split across multiple rows."
      ]
    },
    {
      "metadata": {
        "id": "kql7ThKHishU",
        "colab_type": "text"
      },
      "cell_type": "markdown",
      "source": [
        "# Libraries\n",
        "\n",
        "This project relies upon the support of a few libraries to make everything work.\n",
        "\n",
        "The data file we used is stored in a csv. To get that file we use `requests` and we use `io` to process it"
      ]
    },
    {
      "metadata": {
        "id": "vw8mRoZQLXWR",
        "colab_type": "code",
        "colab": {}
      },
      "cell_type": "code",
      "source": [
        "import requests\n",
        "import io"
      ],
      "execution_count": 0,
      "outputs": []
    },
    {
      "metadata": {
        "id": "GvKahhnBLIT7",
        "colab_type": "text"
      },
      "cell_type": "markdown",
      "source": [
        "To help manage all of our data we use pandas dataframes."
      ]
    },
    {
      "metadata": {
        "id": "DPnJXV99i-zh",
        "colab_type": "code",
        "colab": {}
      },
      "cell_type": "code",
      "source": [
        "import pandas as pd"
      ],
      "execution_count": 0,
      "outputs": []
    },
    {
      "metadata": {
        "id": "Hsr1jRYFjALA",
        "colab_type": "text"
      },
      "cell_type": "markdown",
      "source": [
        "For dealing with the the mathematical portion of our calculations as well as matrix calculations we use numpy"
      ]
    },
    {
      "metadata": {
        "id": "eVMDMfhrjIPS",
        "colab_type": "code",
        "colab": {}
      },
      "cell_type": "code",
      "source": [
        "import numpy as np"
      ],
      "execution_count": 0,
      "outputs": []
    },
    {
      "metadata": {
        "id": "QcsfFPAljKyQ",
        "colab_type": "text"
      },
      "cell_type": "markdown",
      "source": [
        "For our models we use an sklearn backend. Each model is imported seperately for clarity."
      ]
    },
    {
      "metadata": {
        "id": "1QjmE75yTzZL",
        "colab_type": "code",
        "colab": {}
      },
      "cell_type": "code",
      "source": [
        "from sklearn.model_selection import train_test_split\n",
        "from sklearn import preprocessing\n",
        "from sklearn import metrics\n",
        "\n",
        "from sklearn import feature_selection\n",
        "\n",
        "from sklearn.linear_model import LinearRegression as sklr\n",
        "\n",
        "#Support Vector Regression\n",
        "from sklearn.svm import SVR\n",
        "\n",
        "#Random Forest Regressor\n",
        "from sklearn.ensemble import RandomForestRegressor\n",
        "#Parameter tuning for RFR\n",
        "from sklearn.model_selection import RandomizedSearchCV"
      ],
      "execution_count": 0,
      "outputs": []
    },
    {
      "metadata": {
        "id": "kba4dzY5jT-A",
        "colab_type": "text"
      },
      "cell_type": "markdown",
      "source": [
        "And finally for data visualization we used matplotlib and seaborn for some specialized graphs."
      ]
    },
    {
      "metadata": {
        "id": "464LZTM8jYB4",
        "colab_type": "code",
        "colab": {}
      },
      "cell_type": "code",
      "source": [
        "# Data Vis\n",
        "import matplotlib.pyplot as plt\n",
        "import seaborn as sns\n",
        "\n",
        "#Used to remove warnings for some deprecat4ed functions\n",
        "import warnings \n",
        "warnings.filterwarnings('ignore')\n",
        "\n",
        "#Set style for plots\n",
        "%matplotlib inline\n",
        "sns.set(style='white', context='notebook', palette='deep') \n",
        "import matplotlib.style as style\n",
        "style.use('fivethirtyeight')"
      ],
      "execution_count": 0,
      "outputs": []
    },
    {
      "metadata": {
        "id": "Nui3QAhgjs2w",
        "colab_type": "text"
      },
      "cell_type": "markdown",
      "source": [
        "# Reading and Formatting the Data Frame"
      ]
    },
    {
      "metadata": {
        "id": "sqFZLvKRjxNR",
        "colab_type": "text"
      },
      "cell_type": "markdown",
      "source": [
        "To start we read in the data from a csv file called `indicators.csv`"
      ]
    },
    {
      "metadata": {
        "id": "_OqjSB9Ba3yj",
        "colab_type": "code",
        "colab": {
          "base_uri": "https://localhost:8080/",
          "height": 328
        },
        "outputId": "2515d725-e4eb-462e-d9f5-e21082fdb68d"
      },
      "cell_type": "code",
      "source": [
        "#Read in data frame\n",
        "indicators = pd.read_csv('indicators.csv', sep = ',')\n",
        "indicators.head(9)"
      ],
      "execution_count": 9,
      "outputs": [
        {
          "output_type": "execute_result",
          "data": {
            "text/html": [
              "<div>\n",
              "<style scoped>\n",
              "    .dataframe tbody tr th:only-of-type {\n",
              "        vertical-align: middle;\n",
              "    }\n",
              "\n",
              "    .dataframe tbody tr th {\n",
              "        vertical-align: top;\n",
              "    }\n",
              "\n",
              "    .dataframe thead th {\n",
              "        text-align: right;\n",
              "    }\n",
              "</style>\n",
              "<table border=\"1\" class=\"dataframe\">\n",
              "  <thead>\n",
              "    <tr style=\"text-align: right;\">\n",
              "      <th></th>\n",
              "      <th>CountryName</th>\n",
              "      <th>CountryCode</th>\n",
              "      <th>IndicatorName</th>\n",
              "      <th>IndicatorCode</th>\n",
              "      <th>Year</th>\n",
              "      <th>Value</th>\n",
              "    </tr>\n",
              "  </thead>\n",
              "  <tbody>\n",
              "    <tr>\n",
              "      <th>0</th>\n",
              "      <td>Arab World</td>\n",
              "      <td>ARB</td>\n",
              "      <td>Adolescent fertility rate (births per 1,000 wo...</td>\n",
              "      <td>SP.ADO.TFRT</td>\n",
              "      <td>1960</td>\n",
              "      <td>1.335609e+02</td>\n",
              "    </tr>\n",
              "    <tr>\n",
              "      <th>1</th>\n",
              "      <td>Arab World</td>\n",
              "      <td>ARB</td>\n",
              "      <td>Age dependency ratio (% of working-age populat...</td>\n",
              "      <td>SP.POP.DPND</td>\n",
              "      <td>1960</td>\n",
              "      <td>8.779760e+01</td>\n",
              "    </tr>\n",
              "    <tr>\n",
              "      <th>2</th>\n",
              "      <td>Arab World</td>\n",
              "      <td>ARB</td>\n",
              "      <td>Age dependency ratio, old (% of working-age po...</td>\n",
              "      <td>SP.POP.DPND.OL</td>\n",
              "      <td>1960</td>\n",
              "      <td>6.634579e+00</td>\n",
              "    </tr>\n",
              "    <tr>\n",
              "      <th>3</th>\n",
              "      <td>Arab World</td>\n",
              "      <td>ARB</td>\n",
              "      <td>Age dependency ratio, young (% of working-age ...</td>\n",
              "      <td>SP.POP.DPND.YG</td>\n",
              "      <td>1960</td>\n",
              "      <td>8.102333e+01</td>\n",
              "    </tr>\n",
              "    <tr>\n",
              "      <th>4</th>\n",
              "      <td>Arab World</td>\n",
              "      <td>ARB</td>\n",
              "      <td>Arms exports (SIPRI trend indicator values)</td>\n",
              "      <td>MS.MIL.XPRT.KD</td>\n",
              "      <td>1960</td>\n",
              "      <td>3.000000e+06</td>\n",
              "    </tr>\n",
              "    <tr>\n",
              "      <th>5</th>\n",
              "      <td>Arab World</td>\n",
              "      <td>ARB</td>\n",
              "      <td>Arms imports (SIPRI trend indicator values)</td>\n",
              "      <td>MS.MIL.MPRT.KD</td>\n",
              "      <td>1960</td>\n",
              "      <td>5.380000e+08</td>\n",
              "    </tr>\n",
              "    <tr>\n",
              "      <th>6</th>\n",
              "      <td>Arab World</td>\n",
              "      <td>ARB</td>\n",
              "      <td>Birth rate, crude (per 1,000 people)</td>\n",
              "      <td>SP.DYN.CBRT.IN</td>\n",
              "      <td>1960</td>\n",
              "      <td>4.769789e+01</td>\n",
              "    </tr>\n",
              "    <tr>\n",
              "      <th>7</th>\n",
              "      <td>Arab World</td>\n",
              "      <td>ARB</td>\n",
              "      <td>CO2 emissions (kt)</td>\n",
              "      <td>EN.ATM.CO2E.KT</td>\n",
              "      <td>1960</td>\n",
              "      <td>5.956399e+04</td>\n",
              "    </tr>\n",
              "    <tr>\n",
              "      <th>8</th>\n",
              "      <td>Arab World</td>\n",
              "      <td>ARB</td>\n",
              "      <td>CO2 emissions (metric tons per capita)</td>\n",
              "      <td>EN.ATM.CO2E.PC</td>\n",
              "      <td>1960</td>\n",
              "      <td>6.439635e-01</td>\n",
              "    </tr>\n",
              "  </tbody>\n",
              "</table>\n",
              "</div>"
            ],
            "text/plain": [
              "  CountryName CountryCode                                      IndicatorName  \\\n",
              "0  Arab World         ARB  Adolescent fertility rate (births per 1,000 wo...   \n",
              "1  Arab World         ARB  Age dependency ratio (% of working-age populat...   \n",
              "2  Arab World         ARB  Age dependency ratio, old (% of working-age po...   \n",
              "3  Arab World         ARB  Age dependency ratio, young (% of working-age ...   \n",
              "4  Arab World         ARB        Arms exports (SIPRI trend indicator values)   \n",
              "5  Arab World         ARB        Arms imports (SIPRI trend indicator values)   \n",
              "6  Arab World         ARB               Birth rate, crude (per 1,000 people)   \n",
              "7  Arab World         ARB                                 CO2 emissions (kt)   \n",
              "8  Arab World         ARB             CO2 emissions (metric tons per capita)   \n",
              "\n",
              "    IndicatorCode  Year         Value  \n",
              "0     SP.ADO.TFRT  1960  1.335609e+02  \n",
              "1     SP.POP.DPND  1960  8.779760e+01  \n",
              "2  SP.POP.DPND.OL  1960  6.634579e+00  \n",
              "3  SP.POP.DPND.YG  1960  8.102333e+01  \n",
              "4  MS.MIL.XPRT.KD  1960  3.000000e+06  \n",
              "5  MS.MIL.MPRT.KD  1960  5.380000e+08  \n",
              "6  SP.DYN.CBRT.IN  1960  4.769789e+01  \n",
              "7  EN.ATM.CO2E.KT  1960  5.956399e+04  \n",
              "8  EN.ATM.CO2E.PC  1960  6.439635e-01  "
            ]
          },
          "metadata": {
            "tags": []
          },
          "execution_count": 9
        }
      ]
    },
    {
      "metadata": {
        "id": "OItbffiGUt9F",
        "colab_type": "text"
      },
      "cell_type": "markdown",
      "source": [
        "## Extract the relevant rows\n",
        "\n",
        "Now that we have the dataframe we select the indicators. We preselected a set of indicators relevant to agriculture. We begin by putting our selected variables into a dictionary with the key being the human readable name for the indicator and the value being the indicator code used by the dataset."
      ]
    },
    {
      "metadata": {
        "id": "FPIO1f-edPEK",
        "colab_type": "code",
        "colab": {}
      },
      "cell_type": "code",
      "source": [
        "#Select only relevant indicators\n",
        "ag_indicators = {\n",
        "    'ag machinery, tractors':'AG.AGR.TRAC.NO',\n",
        "    'ag machinery per 100 sq km':'AG.LND.TRAC.ZS',\n",
        "    'ag value added per worker':'EA.PRD.AGRI.KD',\n",
        "    'cereal production, tons':'AG.PRD.CREL.MT',\n",
        "    'cereal yield, kg per hectare':'AG.YLD.CREL.KG',\n",
        "    'fertilizer consumption, % (quantity used per unit of arable land)':'AG.CON.FERT.PT.ZS',\n",
        "    'fertilizer consumption, kg per hectare of arable land':'AG.CON.FERT.ZS',\n",
        "    'land under cereal production, hectare':'AG.LND.CREL.HA',\n",
        "    'ag irrigated land, %':'AG.LND.IRIG.AG.ZS',\n",
        "    'ag total land, %':'AG.LND.AGRI.ZS',\n",
        "    'ag total land, sq km':'AG.LND.AGRI.K2',\n",
        "    'arable land, %':'AG.LND.ARBL.ZS',\n",
        "    'arable land, hectares':'AG.LND.ARBL.HA',\n",
        "    'average precipitation, mm per year':'AG.LND.PRCP.MM',\n",
        "    'land area, sq km':'AG.LND.TOTL.K2',\n",
        "    'permanent cropland, %':'AG.LND.CROP.ZS',\n",
        "    'food production index':'AG.PRD.FOOD.XD',\n",
        "    'value added agriculture':'NV.AGR.TOTL.KD'\n",
        "}    \n"
      ],
      "execution_count": 0,
      "outputs": []
    },
    {
      "metadata": {
        "id": "79N0qivVlpVX",
        "colab_type": "text"
      },
      "cell_type": "markdown",
      "source": [
        "Now that we have defined what indicators we want to select we run through our data and select only the rows which have indicator codes matching the ones in our dictionary. We then store these in a dictionary where the key is the indicator code and the value is all the relevant rows."
      ]
    },
    {
      "metadata": {
        "id": "ZywVJvPnldeZ",
        "colab_type": "code",
        "colab": {}
      },
      "cell_type": "code",
      "source": [
        "\n",
        "#Formatted as a dict keyed by indicator code\n",
        "#Each value is a dataframe containing the rows relevant to the indicator split by country and year\n",
        "agDF = {}\n",
        "keys = []\n",
        "values = []\n",
        "for key, value in ag_indicators.items():\n",
        "    rows = indicators.loc[indicators['IndicatorCode'] == value][['CountryCode', 'Year', 'Value']]\n",
        "    keys.append(key)\n",
        "    values.append(rows)\n",
        "    agDF[key] = rows "
      ],
      "execution_count": 0,
      "outputs": []
    },
    {
      "metadata": {
        "id": "Uj-I0XZboxZQ",
        "colab_type": "text"
      },
      "cell_type": "markdown",
      "source": [
        "In addition to the features built into the table, we define an additional feature corresponding to the raw fertilizer consumption by country."
      ]
    },
    {
      "metadata": {
        "id": "Tg0DIS08oudN",
        "colab_type": "code",
        "colab": {}
      },
      "cell_type": "code",
      "source": [
        "\n",
        "#Calculate total fertilizer used\n",
        "fertilizer = clean(['fertilizer_consumption', 'arable_land'],\n",
        "                    agDF['fertilizer consumption, kg per hectare of arable land'],\n",
        "                    agDF['arable land, hectares'])\n",
        "fertilizer['Value'] = fertilizer.fertilizer_consumption * fertilizer.arable_land\n",
        "fertilizer.drop(['fertilizer_consumption','arable_land'],axis=1,inplace=True)\n",
        "\n",
        "agDF['fertilizer'] = fertilizer\n",
        "keys.append('fertilizer')\n",
        "values.append(fertilizer)"
      ],
      "execution_count": 0,
      "outputs": []
    },
    {
      "metadata": {
        "id": "CEnR2mWgUjoU",
        "colab_type": "text"
      },
      "cell_type": "markdown",
      "source": [
        "##Format the indicators into one data frame"
      ]
    },
    {
      "metadata": {
        "id": "vsHaEiM2nZzw",
        "colab_type": "text"
      },
      "cell_type": "markdown",
      "source": [
        "This part is actually jumpting ahead a little bit but it's easier to solve now than later. The countries in the data set aren't strictly countries. Some of the \"countries\" are actually regions. The problem that arises is that countries end up getting double counted which in some cases can skew our results. As such when we collect our data set we preemptively remove the non-country countries. "
      ]
    },
    {
      "metadata": {
        "id": "CowFUmjaUiN0",
        "colab_type": "code",
        "colab": {}
      },
      "cell_type": "code",
      "source": [
        "regions = ['ARB','CSS','EAS','EAP','ECS','ECA','EUU','FCS','HPC','HIC','NOC','OEC','LCN',\n",
        "           'LAC','LDC','LMY','LIC','LMC','MEA','MNA','MIC','NAC','MNP','OED','OSS','PSS',\n",
        "           'SST','SAS','ZAF','SSF','SSA','UMC','WLD']\n"
      ],
      "execution_count": 0,
      "outputs": []
    },
    {
      "metadata": {
        "id": "5QM-OVKon1xa",
        "colab_type": "text"
      },
      "cell_type": "markdown",
      "source": [
        "We define a helper\n",
        "\n",
        "function we refer to as `clean`. This function takes in the column names and a series of data frames corresponding to the different indicators. These frames are merged together by the country code and year. By the time this is done we should have a data frame where each row is a country/year pair and the columns are the features we selected."
      ]
    },
    {
      "metadata": {
        "id": "s1HgkhQJn0KA",
        "colab_type": "code",
        "colab": {}
      },
      "cell_type": "code",
      "source": [
        "\"\"\"\n",
        "clean: Formats the frames given in df1 and *data to make a single data frame\n",
        "input: list of string + dataframe\n",
        "names: column names for given columns in order\n",
        "output: dataframe in format: CountryCode, year, indicators**\n",
        "\"\"\"\n",
        "def clean(names, df1, *data):\n",
        "    n = 0\n",
        "    df = df1.copy()\n",
        "    if 'Value' in df1.columns.values:\n",
        "        df.rename(columns={'Value':names[n]}, inplace=True)\n",
        "        n += 1\n",
        "    for f in data:\n",
        "        frame = f.copy()\n",
        "        if 'Value' in frame.columns.values:\n",
        "            frame.rename(columns={'Value':names[n]}, inplace=True)\n",
        "            n += 1\n",
        "        df = pd.merge(df, frame, how='left', on=['CountryCode','Year'])\n",
        "    # Necessary to remove the double-counting regions noted in the first section\n",
        "    for name in regions:\n",
        "        df.drop(df.loc[df.CountryCode == name].index, inplace=True)\n",
        "    return df\n"
      ],
      "execution_count": 0,
      "outputs": []
    },
    {
      "metadata": {
        "id": "SkhATo07pHIO",
        "colab_type": "text"
      },
      "cell_type": "markdown",
      "source": [
        "We drop the country code and year for two reasons. The first reason is that we simply no longer need them. None of our models are cluster based or otherwise rely on knowing the labels. The second reasons is that non-numeric features get in the way of any mathematical calculations done on the data frames so it is simply easier to just remove them."
      ]
    },
    {
      "metadata": {
        "id": "8nclZFYzo8ql",
        "colab_type": "code",
        "colab": {
          "base_uri": "https://localhost:8080/",
          "height": 238
        },
        "outputId": "a7502091-e061-49f9-d7d6-5af6d83531df"
      },
      "cell_type": "code",
      "source": [
        "\n",
        "df = clean(\n",
        "    [\"cereal production\", 'tractors', 'fertilizer', 'average precipitation', 'land under cereal production',\n",
        "     'ag total land', 'arable land', 'land area'],\n",
        "    agDF['cereal production, tons'],\n",
        "    agDF['ag machinery, tractors'],\n",
        "    agDF['fertilizer'],\n",
        "    agDF['average precipitation, mm per year'],\n",
        "    agDF['land under cereal production, hectare'],\n",
        "    agDF['ag total land, sq km'],\n",
        "    agDF['arable land, hectares'],\n",
        "    agDF['land area, sq km']\n",
        ")\n",
        "\n",
        "keys = []\n",
        "values = []\n",
        "\n",
        "for key, val in agDF.items():\n",
        "  keys.append(key)\n",
        "  values.append(val)\n",
        "\n",
        "df = df.drop(['CountryCode','Year'], axis=1)\n",
        "\n",
        "df.info()"
      ],
      "execution_count": 15,
      "outputs": [
        {
          "output_type": "stream",
          "text": [
            "<class 'pandas.core.frame.DataFrame'>\n",
            "Int64Index: 8686 entries, 2 to 10381\n",
            "Data columns (total 8 columns):\n",
            "cereal production               8686 non-null float64\n",
            "tractors                        5574 non-null float64\n",
            "fertilizer                      1787 non-null float64\n",
            "average precipitation           1744 non-null float64\n",
            "land under cereal production    8686 non-null float64\n",
            "ag total land                   8672 non-null float64\n",
            "arable land                     8566 non-null float64\n",
            "land area                       8686 non-null float64\n",
            "dtypes: float64(8)\n",
            "memory usage: 610.7 KB\n"
          ],
          "name": "stdout"
        }
      ]
    },
    {
      "metadata": {
        "id": "Stnao3yg9v5v",
        "colab_type": "text"
      },
      "cell_type": "markdown",
      "source": [
        "## Imputation\n",
        "\n",
        "As can be seen in the data summaries from the previous sections, some of the indicators are rather sparse. In particular, average participation and fertilizer usage both have around 1750 non null rows. To help correct that, we use regression imputation to help fill in some of these non null values.\n",
        "\n",
        "Essentially, we train a regression model on the rows for which the given indicator is defined and then use that model to predict the values for the rows where the indicator is not defined."
      ]
    },
    {
      "metadata": {
        "id": "xAUMKh2Y2ydp",
        "colab_type": "code",
        "colab": {}
      },
      "cell_type": "code",
      "source": [
        "def contains_nan(row):\n",
        "  return pd.isnull(row).any()\n",
        "\n",
        "#Imputate: dataframe, string -> dataframe\n",
        "# Input: Target Dataframe to be imputated, name of column to be imputated\n",
        "def imputate(df, label):\n",
        "  #Train the regression model on rows where target column is non null\n",
        "  train = df.loc[pd.isnull(df[label]) == False]\n",
        "  \n",
        "  cols = list(train.columns.values)\n",
        "  cols.remove(label)\n",
        "  \n",
        "  # Further trim our training set by removing any rows where input columns are \n",
        "  # null\n",
        "  train = train.dropna(axis = 0, how = 'any', subset = cols)\n",
        "  \n",
        "  #Seperate input output with target label as otuput\n",
        "  train_y = train[label]\n",
        "  train_x = train.drop(label, axis = 1)\n",
        "  \n",
        "  #Initialize and train model\n",
        "  regr = sklr()\n",
        "  \n",
        "  model = regr.fit(train_x, y = train_y)\n",
        "  \n",
        "  #Takes in a row. If target label is not null, simply return the row as is\n",
        "  #If the target label is null and the rest of the row is non-null, make a prediction\n",
        "  def f(x):\n",
        "    x_param = x[:]\n",
        "    x_param = x_param.drop(label)\n",
        "    \n",
        "    if(pd.isnull(x[label]) and not contains_nan(x_param)):\n",
        "      #Fill in the value using predictions\n",
        "      return model.predict(x_param.values.reshape(1,-1))\n",
        "    else:\n",
        "      return x[label]\n",
        "  \n",
        "  #Apply it to every row\n",
        "  df[label] = df.apply(f, axis = 1)\n",
        "\n",
        "  return df\n",
        "  \n"
      ],
      "execution_count": 0,
      "outputs": []
    },
    {
      "metadata": {
        "id": "HWz05W2fMGlb",
        "colab_type": "text"
      },
      "cell_type": "markdown",
      "source": [
        "Since imputation only works for rows where every indicator except the one being targeted is non-null, this greatly restricts the number of rows we can fill in at a time. The main problem is that `fertilizer` and `average precipitation` are both very sparse and have little overlap. In fact, the number of rows in the initial data set where both are non-null is only 88. To fix that, we alternate between imputating over the two indicators over and over again to slowly fill in the data set.  This allows us to get to around 2000 non-null objects at the lowest.\n",
        "\n",
        "This is still not ideal as in a perfect world we would fill the entire data frame. As regression is not equipped to handle null values spread throughout the dataframe, our imputation model cannot really improve beyond this point. To improve this, different, more robust imputation models may work. A simple solution would be to use mean-value imputation although the accuracy is not quite as guaranteed.\n",
        "\n",
        "Despite all of its flaws howver, regression imputation does help ensure that the same basic relationships between the indicators are maintained throughout the data set. For models like linear regression which deal with the indicators as a set on a per sample basis, this guarantee is pretty much required."
      ]
    },
    {
      "metadata": {
        "id": "IlM0daTqMEcE",
        "colab_type": "code",
        "colab": {
          "base_uri": "https://localhost:8080/",
          "height": 238
        },
        "outputId": "4d63cb80-b33a-4855-f0e1-0ba4be571652"
      },
      "cell_type": "code",
      "source": [
        "\n",
        "#Upping this count to 40 creates no significant improvement\n",
        "for i in range(10):\n",
        "  df = imputate(df, 'average precipitation')\n",
        "  df = imputate(df, 'fertilizer')\n",
        "\n",
        "df = imputate(df, 'tractors')\n",
        "\n",
        "df.info()"
      ],
      "execution_count": 18,
      "outputs": [
        {
          "output_type": "stream",
          "text": [
            "<class 'pandas.core.frame.DataFrame'>\n",
            "Int64Index: 8686 entries, 2 to 10381\n",
            "Data columns (total 8 columns):\n",
            "cereal production               8686 non-null float64\n",
            "tractors                        5922 non-null object\n",
            "fertilizer                      2819 non-null object\n",
            "average precipitation           1958 non-null object\n",
            "land under cereal production    8686 non-null float64\n",
            "ag total land                   8672 non-null float64\n",
            "arable land                     8566 non-null float64\n",
            "land area                       8686 non-null float64\n",
            "dtypes: float64(5), object(3)\n",
            "memory usage: 610.7+ KB\n"
          ],
          "name": "stdout"
        }
      ]
    },
    {
      "metadata": {
        "id": "xRfcNItq0Q1C",
        "colab_type": "text"
      },
      "cell_type": "markdown",
      "source": [
        "### Data Filtering"
      ]
    },
    {
      "metadata": {
        "id": "_bec3KyyTlXX",
        "colab_type": "text"
      },
      "cell_type": "markdown",
      "source": [
        "For the sake of our regression models, we remove any rows which have a null element at any column. The resulting data frame contains only rows which are filled in every column, whether that be how it came originally or a product of our imputation."
      ]
    },
    {
      "metadata": {
        "id": "rBfaYcwH0MCD",
        "colab_type": "code",
        "colab": {
          "base_uri": "https://localhost:8080/",
          "height": 34
        },
        "outputId": "c717580c-4da9-4637-d825-93cc134065fe"
      },
      "cell_type": "code",
      "source": [
        "df = df.dropna(axis = 0, how = 'any')\n",
        "\n",
        "df.shape"
      ],
      "execution_count": 19,
      "outputs": [
        {
          "output_type": "execute_result",
          "data": {
            "text/plain": [
              "(1682, 8)"
            ]
          },
          "metadata": {
            "tags": []
          },
          "execution_count": 19
        }
      ]
    },
    {
      "metadata": {
        "id": "mVSsIVx_tlEt",
        "colab_type": "text"
      },
      "cell_type": "markdown",
      "source": [
        "## Feature Selection\n",
        "\n",
        "A common problem to have when training a model is having too many variables. As a result of having too many variables, models can often end up overfitting the data leading to a model which doesn't generalize very well. \n",
        "\n",
        "Currently our data frame consists of 7 variables which were selected by hand. To see if we can improve any better, we apply feature selection to the selected variables to see if a subset of our selected variables will perform comparitively as well."
      ]
    },
    {
      "metadata": {
        "id": "yz_0knw2WYFA",
        "colab_type": "text"
      },
      "cell_type": "markdown",
      "source": [
        "### Using SelectKBest"
      ]
    },
    {
      "metadata": {
        "id": "MXp0ZwCPXC73",
        "colab_type": "text"
      },
      "cell_type": "markdown",
      "source": [
        "The first feature selection method we employ is SelectKBest from sklearn. This model takes in a scoring system and the set of variables and returns the k variables which score highest. In the default case(which is what we use here), it uses the F-statistic value."
      ]
    },
    {
      "metadata": {
        "id": "qlqAvNAjtkct",
        "colab_type": "code",
        "colab": {
          "base_uri": "https://localhost:8080/",
          "height": 34
        },
        "outputId": "96a4d48c-b731-452e-f2cf-3716f73ffd47"
      },
      "cell_type": "code",
      "source": [
        "fs = feature_selection.SelectKBest(k = 4)\n",
        "\n",
        "df_y = df['cereal production']\n",
        "df_x = df.drop('cereal production', axis = 1)\n",
        "\n",
        "fs.fit(df_x, df_y)\n",
        "selected = np.array(df_x.columns.values)[np.array(fs.get_support())]\n",
        "print(selected)"
      ],
      "execution_count": 20,
      "outputs": [
        {
          "output_type": "stream",
          "text": [
            "['tractors' 'land under cereal production' 'arable land' 'land area']\n"
          ],
          "name": "stdout"
        }
      ]
    },
    {
      "metadata": {
        "id": "rec-QPLLwgVo",
        "colab_type": "text"
      },
      "cell_type": "markdown",
      "source": [
        "With k = 4, SelectKBest selects `tractors`, `land under cereal production`, `arable land`, and `land area` as the k features which are most likely to produce good results."
      ]
    },
    {
      "metadata": {
        "id": "TEV1mY3BxKnd",
        "colab_type": "text"
      },
      "cell_type": "markdown",
      "source": [
        "### Using Recursive Feature Elimination\n",
        "\n",
        "The second method we use which is a little more complex is Recursive Feature Elimination(RFE). RFE takes in an evaluation model in addition to the scoring method. It begins by training the model on all the variables. This model now has a weight assigned to each feature which is used as a ranking system. The lowest weighted feature is removed and the process repeats until only one variable remains. \n",
        "\n",
        "The version we use also includes 3-fold cross validation which evaluates each subset of the variables to automatically select the optimal number of variables to include."
      ]
    },
    {
      "metadata": {
        "id": "aVXtYbDMxNk-",
        "colab_type": "code",
        "colab": {
          "base_uri": "https://localhost:8080/",
          "height": 51
        },
        "outputId": "bf75e5a2-83b7-4f4d-a3ce-e51c25a0d502"
      },
      "cell_type": "code",
      "source": [
        "reg = sklr(normalize = True)\n",
        "\n",
        "rfe = feature_selection.RFECV(estimator = reg, scoring = 'r2')\n",
        "\n",
        "rfe.fit(df_x, df_y)\n",
        "\n",
        "rfe.n_features_\n",
        "\n",
        "print(np.array(df_x.columns.values)[np.array(rfe.get_support())])"
      ],
      "execution_count": 21,
      "outputs": [
        {
          "output_type": "stream",
          "text": [
            "['tractors' 'fertilizer' 'average precipitation'\n",
            " 'land under cereal production' 'ag total land' 'arable land' 'land area']\n"
          ],
          "name": "stdout"
        }
      ]
    },
    {
      "metadata": {
        "id": "g4MO0VTtaAHN",
        "colab_type": "text"
      },
      "cell_type": "markdown",
      "source": [
        "The feature selection model appears to select to include all 7 variables as the optimal model, confirming our intuition when selecting these variables. Below we visualize the cross validation scores for each subset of variables to verify this result."
      ]
    },
    {
      "metadata": {
        "id": "FIEVpchFZWKw",
        "colab_type": "code",
        "colab": {
          "base_uri": "https://localhost:8080/",
          "height": 419
        },
        "outputId": "d3f0c4a3-431e-46b6-ffcb-0e26520b12ed"
      },
      "cell_type": "code",
      "source": [
        "plt.figure()\n",
        "plt.xlabel(\"Number of features selected\")\n",
        "plt.ylabel(\"Cross validation score (nb of correct classifications)\")\n",
        "plt.plot(range(1, len(rfe.grid_scores_) + 1), rfe.grid_scores_)\n",
        "plt.show()"
      ],
      "execution_count": 22,
      "outputs": [
        {
          "output_type": "display_data",
          "data": {
            "image/png": "[encoded data removed]",
            "text/plain": [
              "<matplotlib.figure.Figure at 0x7fd60dfb3dd8>"
            ]
          },
          "metadata": {
            "tags": []
          }
        }
      ]
    },
    {
      "metadata": {
        "id": "L7xJE_52aPzU",
        "colab_type": "text"
      },
      "cell_type": "markdown",
      "source": [
        "We see that while there is relatively good performance at n = 3, the performance jump at n = 7 is too high to ignore and so that is the number of features which gets selected."
      ]
    },
    {
      "metadata": {
        "id": "7NqWJJ_Ii_UV",
        "colab_type": "text"
      },
      "cell_type": "markdown",
      "source": [
        "# Data Scaling\n",
        "\n",
        "An important consideration to make is that the input features are not necessarily on the same scale as they have a variety of natures. To make sure that all variables are fairly evaluated, we standardize the features by subtracting the mean and dividing by the variance so that every feature has mean 0 and variance 1. This process is expedited via sklearn using the StandardScaler"
      ]
    },
    {
      "metadata": {
        "id": "_cZIXfR9jYax",
        "colab_type": "code",
        "colab": {}
      },
      "cell_type": "code",
      "source": [
        "#Initialize scaler\n",
        "scaler = preprocessing.StandardScaler()\n",
        "\n",
        "colnames = df.columns\n",
        "\n",
        "#Standardize\n",
        "df = scaler.fit_transform(df)\n",
        "\n",
        "#Stick it back into a dataframe\n",
        "df = pd.DataFrame(df, columns = colnames)"
      ],
      "execution_count": 0,
      "outputs": []
    },
    {
      "metadata": {
        "id": "kjPtOKEfuAA-",
        "colab_type": "text"
      },
      "cell_type": "markdown",
      "source": [
        "# Linear Regression Model"
      ]
    },
    {
      "metadata": {
        "id": "NfN_PNJpaevO",
        "colab_type": "text"
      },
      "cell_type": "markdown",
      "source": [
        "When training our linear model, we split the data into two sets, trianing and validation. For our project, we used an 80-20 split between training and validation. Since these splits are made randomly, we repeat the trianing and validation process 1000 times to make sure our evaluation results are not the result of random fluctuations.\n",
        "\n",
        "When creating the linear model, we designed it so that it would normalize the inputs. sklearn does this by substracting the mean and dividing by the l2 norm. The value in this is that the variables are all put on the same scale avoiding situations where one variable massively outweights the others and also allowing us to look at the relative values of the coefficients of the variables and get meaningfull conclusions.\n",
        "\n",
        "We evaluate our model on the R^2 scoring system while also tracking the Mean Squared Error. The R^2 score affectively evaluates how close we got to the actual values with our predicted values. We also store the best set of predictions based on R^2 for display later."
      ]
    },
    {
      "metadata": {
        "id": "TwH1HgPI2Kyx",
        "colab_type": "code",
        "colab": {
          "base_uri": "https://localhost:8080/",
          "height": 51
        },
        "outputId": "78addb77-e933-481b-c7ff-d5de63e4c722"
      },
      "cell_type": "code",
      "source": [
        "#Arrays to store the R^2 and mse values\n",
        "score = []\n",
        "mse = []\n",
        "\n",
        "#The best set of predictions and the relative score\n",
        "best_pred = []\n",
        "best_score = 0\n",
        "\n",
        "\n",
        "for x in range(1000):\n",
        "  #Split data randomly into training and validation\n",
        "  train, test = train_test_split(df, test_size = 0.2)\n",
        "\n",
        "  #Seperate inputs and outputs\n",
        "  train_y = train['cereal production']\n",
        "  train_x = train.drop( 'cereal production', axis = 1)\n",
        "  \n",
        "  test_y = train['cereal production']\n",
        "  test_x = train.drop( 'cereal production', axis = 1)\n",
        "  \n",
        "  #Initialize the model with normalization on\n",
        "  regr = sklr(normalize = True)\n",
        "  \n",
        "  #Train the model\n",
        "  regr.fit(train_x, train_y)\n",
        "  \n",
        "  #Make the predictions for the validation set\n",
        "  pred = regr.predict(test_x)\n",
        "  \n",
        "  #Update best model if necessary\n",
        "  if(regr.score(test_x,test_y) > best_score):\n",
        "    best_pred = pred\n",
        "    best_real = test_y\n",
        "  \n",
        "  #Track diagnostic statistics\n",
        "  score.append(regr.score(test_x,test_y))\n",
        "  mse.append(metrics.mean_squared_error(test_y, pred))\n",
        "  \n",
        "  \n",
        "print(\"R-Squared:    {0} \\n\"\n",
        "      \"Mean-Squared: {1}\".format(np.mean(score),np.mean(mse)))"
      ],
      "execution_count": 24,
      "outputs": [
        {
          "output_type": "stream",
          "text": [
            "R-Squared:    0.9691044231086559 \n",
            "Mean-Squared: 0.03062161619529499\n"
          ],
          "name": "stdout"
        }
      ]
    },
    {
      "metadata": {
        "id": "mS1N_NR8cW63",
        "colab_type": "text"
      },
      "cell_type": "markdown",
      "source": [
        "As we can see, our model performed very well with an R-squared of 0.969 which is close to the optimal value of 1. "
      ]
    },
    {
      "metadata": {
        "id": "dsJqA0J6cR4V",
        "colab_type": "text"
      },
      "cell_type": "markdown",
      "source": [
        "## Real Vs. Predicted"
      ]
    },
    {
      "metadata": {
        "id": "Sa5i11QachQe",
        "colab_type": "text"
      },
      "cell_type": "markdown",
      "source": [
        "We can visualize how close our model was by plotting the predicted values against the real values. The dashed line in the plot below represents the ideal line where we predict exactly the real value for every output."
      ]
    },
    {
      "metadata": {
        "id": "zOLS9VEDcRWa",
        "colab_type": "code",
        "colab": {
          "base_uri": "https://localhost:8080/",
          "height": 409
        },
        "outputId": "47effe08-f82c-4ef4-c5d4-b19b66751526"
      },
      "cell_type": "code",
      "source": [
        "fig, ax = plt.subplots()\n",
        "ax.scatter(best_real, best_pred, edgecolors=(0, 0, 0))\n",
        "ax.plot([best_real.min(), best_real.max()], [best_real.min(), best_real.max()], 'k--', lw=4)\n",
        "ax.set_xlabel('Measured')\n",
        "ax.set_ylabel('Predicted')\n",
        "ax.set_title('Real vs. Predicted for Linear Model')\n",
        "plt.show()"
      ],
      "execution_count": 25,
      "outputs": [
        {
          "output_type": "display_data",
          "data": {
            "image/png": "[encoded data removed]",
            "text/plain": [
              "<matplotlib.figure.Figure at 0x7fd60dfa04e0>"
            ]
          },
          "metadata": {
            "tags": []
          }
        }
      ]
    },
    {
      "metadata": {
        "id": "d0OQ0XM9cs66",
        "colab_type": "text"
      },
      "cell_type": "markdown",
      "source": [
        "As we can see, our model follows the ideal trend line very closely. The minor fluctuations on either side of the line are both expected and perhaps even necessary. If there were no such fluctuations and our model followed the optimal line exactly we might have concerns over overfitting."
      ]
    },
    {
      "metadata": {
        "id": "es9lg_uijz8k",
        "colab_type": "text"
      },
      "cell_type": "markdown",
      "source": [
        "## Coefficient Analysis"
      ]
    },
    {
      "metadata": {
        "id": "4RnVGD28j6ik",
        "colab_type": "text"
      },
      "cell_type": "markdown",
      "source": [
        "One way to interpret our model is to look at the coefficients assigned to each feature. We can't exactly look at the signs of the variables for significance since the interactions between the variables may result in odd sign values for coefficients. However, we can look at the magnitude of the coefficients to see the weight the model assigns to each feature. In a sense, this is then the predictive power of each feature."
      ]
    },
    {
      "metadata": {
        "id": "3VF5s2tXgYJQ",
        "colab_type": "code",
        "colab": {
          "base_uri": "https://localhost:8080/",
          "height": 153
        },
        "outputId": "6cb724cc-0a10-4068-b6d4-a9609cc9e6ec"
      },
      "cell_type": "code",
      "source": [
        "pd.Series(regr.coef_, index = list(train_x.columns.values))"
      ],
      "execution_count": 26,
      "outputs": [
        {
          "output_type": "execute_result",
          "data": {
            "text/plain": [
              "tractors                       -0.998487\n",
              "fertilizer                      1.499986\n",
              "average precipitation           0.076523\n",
              "land under cereal production    1.600221\n",
              "ag total land                  -0.708879\n",
              "arable land                    -0.238799\n",
              "land area                      -0.036821\n",
              "dtype: float64"
            ]
          },
          "metadata": {
            "tags": []
          },
          "execution_count": 26
        }
      ]
    },
    {
      "metadata": {
        "id": "E37hnfApkUas",
        "colab_type": "text"
      },
      "cell_type": "markdown",
      "source": [
        "From the coefficients, it would appear that total land used for producing cereals, fertilizer usage, tractor usage, and total agricultural land are very strong predictors of cereal production."
      ]
    },
    {
      "metadata": {
        "id": "wC4LNF6vdh_g",
        "colab_type": "text"
      },
      "cell_type": "markdown",
      "source": [
        "## Regression With Feature Selection"
      ]
    },
    {
      "metadata": {
        "id": "4Mq2ll78dm6-",
        "colab_type": "text"
      },
      "cell_type": "markdown",
      "source": [
        "As an excercise, we retry our regression model using the output from SelectKBest feature selection. From the RFE output, we can see that n = 3 or 4 performs decently well so we use exactly those outputs to train a regression model and compare its metrics to our previous baseline model."
      ]
    },
    {
      "metadata": {
        "id": "snIR8doEdRpY",
        "colab_type": "code",
        "colab": {
          "base_uri": "https://localhost:8080/",
          "height": 51
        },
        "outputId": "25adfea1-a200-4544-ccc4-955d918a7dc5"
      },
      "cell_type": "code",
      "source": [
        "#Aggregate diagnostics\n",
        "score = []\n",
        "mse = []\n",
        "\n",
        "#Store best predictions for display\n",
        "best_pred = []\n",
        "best_score = 0\n",
        "\n",
        "#Use only the selected attributes\n",
        "selected = selected.tolist()\n",
        "selected.append('cereal production')\n",
        "df_selected = df[selected] \n",
        "\n",
        "df_selected = df_selected.dropna(axis = 0, how = 'any')\n",
        "\n",
        "#Iterate 1000 times to avoid random errors\n",
        "for x in range(1000):\n",
        "  #Split into trianing validation\n",
        "  train, test = train_test_split(df_selected, test_size = 0.2)\n",
        "\n",
        "  #Extract inputs/outputs\n",
        "  train_y = train['cereal production']\n",
        "  train_x = train.drop( 'cereal production', axis = 1)\n",
        "  \n",
        "  test_y = train['cereal production']\n",
        "  test_x = train.drop( 'cereal production', axis = 1)\n",
        "  \n",
        "  #Intialize model using normalization\n",
        "  regr = sklr(normalize = True)\n",
        "  \n",
        "  #Train model\n",
        "  regr.fit(train_x, train_y)\n",
        "  \n",
        "  #Make the predictions\n",
        "  pred = regr.predict(test_x)\n",
        "  score.append(regr.score(test_x,test_y))\n",
        "  \n",
        "  #Update best predictions if necessary\n",
        "  if(regr.score(test_x,test_y) > best_score):\n",
        "    best_pred = pred\n",
        "    best_real = test_y\n",
        "  \n",
        "  #Aggregate diagnostics\n",
        "  score.append(regr.score(test_x,test_y))\n",
        "  mse.append(metrics.mean_squared_error(test_y, pred))\n",
        "  \n",
        "  \n",
        "print(\"R-Squared:    {0} \\n\"\n",
        "      \"Mean-Squared: {1}\".format(np.mean(score),np.mean(mse)))"
      ],
      "execution_count": 27,
      "outputs": [
        {
          "output_type": "stream",
          "text": [
            "R-Squared:    0.8378168703941495 \n",
            "Mean-Squared: 0.16301899301102554\n"
          ],
          "name": "stdout"
        }
      ]
    },
    {
      "metadata": {
        "id": "_J1mJItbfDEz",
        "colab_type": "text"
      },
      "cell_type": "markdown",
      "source": [
        "As we can see, we achieve an R-Squared of 0.83689 which, while still good, is comparitively worse performance wise than our base line model."
      ]
    },
    {
      "metadata": {
        "id": "STS3d5g_NDv-",
        "colab_type": "text"
      },
      "cell_type": "markdown",
      "source": [
        "## Support Vector Regression(SVR)"
      ]
    },
    {
      "metadata": {
        "id": "yHFBbZMwlejY",
        "colab_type": "text"
      },
      "cell_type": "markdown",
      "source": [
        "Another model we considered is Support Vector Regression which is an adaptation of Support Vector Machines which are used for classification. The model picture looks the same as the Support Vector Machine but rather than learning a classification hyperplane, a regression model is learned which is evaluated for the margin of tolerance for error."
      ]
    },
    {
      "metadata": {
        "id": "UVIQbqsvNB7Z",
        "colab_type": "code",
        "colab": {
          "base_uri": "https://localhost:8080/",
          "height": 51
        },
        "outputId": "8724d55e-40de-404d-cc5b-83468b0335bf"
      },
      "cell_type": "code",
      "source": [
        "score = []\n",
        "mse = []\n",
        "\n",
        "#Store best predictions for display\n",
        "best_pred = []\n",
        "best_score = 0\n",
        "\n",
        "#Iterate 1000 times to avoid random fluctuations\n",
        "for x in range(1000):\n",
        "  #Split into train/validation\n",
        "  train, test = train_test_split(df, test_size = 0.2)\n",
        "\n",
        "  #Extract features and outputs\n",
        "  train_y = train['cereal production']\n",
        "  train_x = train.drop( 'cereal production', axis = 1)\n",
        "  \n",
        "  test_y = train['cereal production']\n",
        "  test_x = train.drop( 'cereal production', axis = 1)\n",
        "  \n",
        "  #Initialize and Train the model\n",
        "  regr = SVR(C = 10, epsilon = 0.2, degree = 6)\n",
        "  \n",
        "  regr.fit(train_x, train_y)\n",
        "  \n",
        "  #Make the predictions\n",
        "  pred = regr.predict(test_x)\n",
        "  \n",
        "  #Update best predictions if necessary\n",
        "  if(regr.score(test_x,test_y) > best_score):\n",
        "    best_pred = pred\n",
        "    best_real = test_y\n",
        "  \n",
        "  #Aggregate the diagnostic data\n",
        "  score.append(regr.score(test_x,test_y))\n",
        "  mse.append(metrics.mean_squared_error(test_y, pred))\n",
        "  \n",
        "  \n",
        "print(\"R-Squared:    {0} \\n\"\n",
        "      \"Mean-Squared: {1}\".format(np.mean(score),np.mean(mse)))"
      ],
      "execution_count": 28,
      "outputs": [
        {
          "output_type": "stream",
          "text": [
            "R-Squared:    0.9890446666410526 \n",
            "Mean-Squared: 0.01086340594367685\n"
          ],
          "name": "stdout"
        }
      ]
    },
    {
      "metadata": {
        "id": "9bZ1fEeCmh4r",
        "colab_type": "text"
      },
      "cell_type": "markdown",
      "source": [
        "We can see that the SVR model performs better than our linear regression model with an R^2 of 0.9889 compared to an R^2 of 0.969. We can visualize the accuracy of the predictions in the same manner as before."
      ]
    },
    {
      "metadata": {
        "id": "HjgmBjpTk1pd",
        "colab_type": "code",
        "colab": {
          "base_uri": "https://localhost:8080/",
          "height": 409
        },
        "outputId": "36ee5072-9ecf-4a60-fea1-23beae53c2bd"
      },
      "cell_type": "code",
      "source": [
        "fig, ax = plt.subplots()\n",
        "ax.scatter(best_real, best_pred, edgecolors=(0, 0, 0))\n",
        "ax.plot([best_real.min(), best_real.max()], [best_real.min(), best_real.max()], 'k--', lw=4)\n",
        "ax.set_xlabel('Measured')\n",
        "ax.set_ylabel('Predicted')\n",
        "ax.set_title('Real vs. Predicted for SVR Model')\n",
        "plt.show()"
      ],
      "execution_count": 29,
      "outputs": [
        {
          "output_type": "display_data",
          "data": {
            "image/png": "[encoded data removed]",
            "text/plain": [
              "<matplotlib.figure.Figure at 0x7fd60bde7da0>"
            ]
          },
          "metadata": {
            "tags": []
          }
        }
      ]
    },
    {
      "metadata": {
        "id": "3aa3t2Nmm5k0",
        "colab_type": "text"
      },
      "cell_type": "markdown",
      "source": [
        "Unfortunately, SVR models do not have a clear interpretation of their meaning as they use a non-linear kernel so the coefficients are not readily available. We can see however than an SVR model is well-suited to predicting cereal production in our system."
      ]
    },
    {
      "metadata": {
        "id": "jZs5rge7Vyzc",
        "colab_type": "text"
      },
      "cell_type": "markdown",
      "source": [
        "## Random Forest Regressor Model"
      ]
    },
    {
      "metadata": {
        "id": "AArAhSpuWZOZ",
        "colab_type": "text"
      },
      "cell_type": "markdown",
      "source": [
        "A random forest is a meta estimator that fits a number of classifying decision trees on various sub-samples of the dataset and use averaging to improve the predictive accuracy and control over-fitting. We will be using this model to predict the cereal production."
      ]
    },
    {
      "metadata": {
        "id": "n1wvQdbMW9KR",
        "colab_type": "code",
        "colab": {}
      },
      "cell_type": "code",
      "source": [
        "def normalize(df):\n",
        "    maxim = df.max()\n",
        "    minim = df.min()\n",
        "    df = (df - minim)/float(maxim-minim)\n",
        "    return df"
      ],
      "execution_count": 0,
      "outputs": []
    },
    {
      "metadata": {
        "id": "_GdK9b6KYCYZ",
        "colab_type": "code",
        "colab": {
          "base_uri": "https://localhost:8080/",
          "height": 710
        },
        "outputId": "6c288196-4f15-4a5a-b6b7-2023a7d8dd60"
      },
      "cell_type": "code",
      "source": [
        "d= df\n",
        "corr = d.corr()\n",
        "\n",
        "# Generate a mask for the upper triangle\n",
        "mask = np.zeros_like(corr, dtype=np.bool)\n",
        "mask[np.triu_indices_from(mask)] = True\n",
        "\n",
        "# Set up the matplotlib figure\n",
        "f, ax = plt.subplots(figsize=(11, 9))\n",
        "\n",
        "# Generate a custom diverging colormap\n",
        "cmap = sns.diverging_palette(220, 10, as_cmap=True)\n",
        "\n",
        "# Draw the heatmap with the mask and correct aspect ratio\n",
        "sns.heatmap(corr, mask=mask, \n",
        "            square=True, linewidths=.5, annot=False, cmap=cmap)\n",
        "plt.yticks(rotation=0)\n",
        "plt.title('Correlation Matrix of all Numerical Variables')\n",
        "plt.show()"
      ],
      "execution_count": 31,
      "outputs": [
        {
          "output_type": "display_data",
          "data": {
            "image/png": "[encoded data removed]",
            "text/plain": [
              "<matplotlib.figure.Figure at 0x7fd60dfa0470>"
            ]
          },
          "metadata": {
            "tags": []
          }
        }
      ]
    },
    {
      "metadata": {
        "id": "IX_UzrTrYp6f",
        "colab_type": "code",
        "colab": {}
      },
      "cell_type": "code",
      "source": [
        "score = []\n",
        "mse = []\n",
        "\n",
        "#Store best predictions for display\n",
        "best_pred = []\n",
        "best_score = 0\n",
        "\n",
        "#Iterate 1000 times to avoid random fluctuations\n",
        "for x in range(1000):\n",
        "  #Split into train/validation\n",
        "  train, test = train_test_split(df, test_size = 0.2)\n",
        "\n",
        "  #Extract features and outputs\n",
        "  train_y = train['cereal production']\n",
        "  train_x = train.drop( 'cereal production', axis = 1)\n",
        "  \n",
        "  test_y = train['cereal production']\n",
        "  test_x = train.drop( 'cereal production', axis = 1)\n",
        "  \n",
        "  #Initialize and Train the model\n",
        "  regr = RandomForestRegressor(random_state=1)\n",
        "  \n",
        "  regr.fit(train_x, train_y)\n",
        "  \n",
        "  #Make the predictions\n",
        "  pred = regr.predict(test_x)\n",
        "  \n",
        "  #Update best predictions if necessary\n",
        "  if(regr.score(test_x,test_y) > best_score):\n",
        "    best_pred = pred\n",
        "    best_real = test_y\n",
        "  \n",
        "  #Aggregate the diagnostic data\n",
        "  score.append(regr.score(test_x,test_y))\n",
        "  mse.append(metrics.mean_squared_error(test_y, pred))"
      ],
      "execution_count": 0,
      "outputs": []
    },
    {
      "metadata": {
        "id": "cJv-Gko9bQa4",
        "colab_type": "code",
        "colab": {
          "base_uri": "https://localhost:8080/",
          "height": 51
        },
        "outputId": "12766682-b4e3-44e7-9af2-b9b40d754784"
      },
      "cell_type": "code",
      "source": [
        "print(\"R-Squared:    {0} \\n\"\n",
        "      \"Mean-Squared: {1}\".format(np.mean(score),np.mean(mse)))"
      ],
      "execution_count": 33,
      "outputs": [
        {
          "output_type": "stream",
          "text": [
            "R-Squared:    0.9902514632510674 \n",
            "Mean-Squared: 0.009647583222747365\n"
          ],
          "name": "stdout"
        }
      ]
    },
    {
      "metadata": {
        "id": "m8kipzDld8xJ",
        "colab_type": "code",
        "colab": {
          "base_uri": "https://localhost:8080/",
          "height": 409
        },
        "outputId": "8eb32dc9-e056-4cb1-fa42-834bd9348fe1"
      },
      "cell_type": "code",
      "source": [
        "fig, ax = plt.subplots()\n",
        "ax.scatter(best_real, best_pred, edgecolors=(0, 0, 0))\n",
        "ax.plot([best_real.min(), best_real.max()], [best_real.min(), best_real.max()], 'k--', lw=4)\n",
        "ax.set_xlabel('Measured')\n",
        "ax.set_ylabel('Predicted')\n",
        "ax.set_title('Real vs. Predicted for RFR Model')\n",
        "plt.show()"
      ],
      "execution_count": 34,
      "outputs": [
        {
          "output_type": "display_data",
          "data": {
            "image/png": "[encoded data removed]",
            "text/plain": [
              "<matplotlib.figure.Figure at 0x7fd60bdb6320>"
            ]
          },
          "metadata": {
            "tags": []
          }
        }
      ]
    },
    {
      "metadata": {
        "id": "DcVcX5qdeFkW",
        "colab_type": "code",
        "colab": {
          "base_uri": "https://localhost:8080/",
          "height": 506
        },
        "outputId": "dae04c65-05b6-4ca1-eaae-503ceede2c26"
      },
      "cell_type": "code",
      "source": [
        "importances = regr.feature_importances_\n",
        "\n",
        "std = np.std([tree.feature_importances_ for tree in regr.estimators_], axis=0)\n",
        "indices = np.argsort(importances)[::-1]\n",
        "\n",
        "# Plot the feature importances of the forest\n",
        "plt.figure()\n",
        "plt.title(\"Feature importance\")\n",
        "plt.bar(range(train_x.shape[1]), importances[indices],  \n",
        "       color=\"r\", yerr=std[indices], align=\"center\")\n",
        "plt.xticks(range(train_x.shape[1]),train_x.columns[indices], rotation=90)\n",
        "plt.xlim([-1, 10])\n",
        "plt.show()"
      ],
      "execution_count": 35,
      "outputs": [
        {
          "output_type": "display_data",
          "data": {
            "image/png": "[encoded data removed]",
            "text/plain": [
              "<matplotlib.figure.Figure at 0x7fd60bdb60f0>"
            ]
          },
          "metadata": {
            "tags": []
          }
        }
      ]
    },
    {
      "metadata": {
        "id": "j76lrDelFzmK",
        "colab_type": "text"
      },
      "cell_type": "markdown",
      "source": [
        "# Conclusions\n",
        "\n",
        "It appears that our models agree on what the most important features are. The regression model and the random forest regressor both agreed that land used for cereal production, fertilizers, and tractor usage were the major indicators for predicting total cereal production.\n",
        "\n",
        "We also found through feature selection that the seven features we selected intuitively were all important for our model. We also found that trimming down to four variables also produced decent models, but not models that performed nearly as well as using all 7 variables.\n",
        "\n",
        "All three of the models performed very well proving to be suitable predictors. Random forest regression performed the best of all three models although only mildly better than Support Vector Regression. Potential work to improve this model includes improved imputation methods or considering a wider or different subset of features."
      ]
    }
  ]
}
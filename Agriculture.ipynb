{
  "nbformat": 4,
  "nbformat_minor": 0,
  "metadata": {
    "colab": {
      "name": "Agriculture.ipynb",
      "version": "0.3.2",
      "provenance": [],
      "collapsed_sections": []
    },
    "kernelspec": {
      "name": "python3",
      "display_name": "Python 3"
    }
  },
  "cells": [
    {
      "cell_type": "markdown",
      "metadata": {
        "id": "view-in-github",
        "colab_type": "text"
      },
      "source": [
        "[View in Colaboratory](https://colab.research.google.com/github/chanthony/IndiaAgriculture/blob/master/Agriculture.ipynb)"
      ]
    },
    {
      "metadata": {
        "id": "sMnVL0TaeVP7",
        "colab_type": "text"
      },
      "cell_type": "markdown",
      "source": [
        "# Introduction\n",
        "\n",
        "Computer science and data science in particular has spread into many fields and aspects of life. One of the aspects which has not had much exposure to data science is agriculture. In this project we attempted to apply data science to better understand agriculture and in particular the production of cereals. \n",
        "\n",
        "Cereals are what consumers usually think of as grains such as wheat, rice, or even corn. This family of crops makes up a significant portion of food consumption around the world as well as having applications such as ethanol production. Their prevalence in our daily lives is part of what makes study about their production so interesting.\n",
        "\n",
        "In this project we attempted to build a predictive model to take in various aspects of a countries agricultural industry and predict cereal production for that country. By studying these models we can start to make some observations regarding how these aspects relate to agriculture"
      ]
    },
    {
      "metadata": {
        "id": "iM89Bnq3f6CA",
        "colab_type": "text"
      },
      "cell_type": "markdown",
      "source": [
        "# Data Set\n",
        "\n",
        "For this project we used data  from the World Bank as part of their World Development Indicators data set. You can explore that dataset on your own [here](http://databank.worldbank.org/data/reports.aspx?source=world-development-indicators). The data set has over 1500 different features for 241 countries stretching as far back as 1960. These features describe the countries in many aspects ranging from the economy to environmental characteristics. For this data set we selected a subset of variables to consider that pertained to agriculture.\n",
        "\n",
        "Each row in the dataframe is the value for a given indicator for a specific country and year combination. The columns are the country code, the year, and the indicator code as well as the value for the given indicator. Since we are predicting for each country we will need to transform the data set so country year combinations are combined into a single row rather than split across multiple rows."
      ]
    },
    {
      "metadata": {
        "id": "kql7ThKHishU",
        "colab_type": "text"
      },
      "cell_type": "markdown",
      "source": [
        "# Libaries\n",
        "\n",
        "This project relies upon the support of a few libraries to make everything work.\n",
        "\n",
        "The data file we used is stored in a csv. To get that file we use `requests` and we use `io` to process it"
      ]
    },
    {
      "metadata": {
        "id": "vw8mRoZQLXWR",
        "colab_type": "code",
        "colab": {}
      },
      "cell_type": "code",
      "source": [
        "import requests\n",
        "import io"
      ],
      "execution_count": 0,
      "outputs": []
    },
    {
      "metadata": {
        "id": "GvKahhnBLIT7",
        "colab_type": "text"
      },
      "cell_type": "markdown",
      "source": [
        "To help manage all of our data we use pandas dataframes."
      ]
    },
    {
      "metadata": {
        "id": "DPnJXV99i-zh",
        "colab_type": "code",
        "colab": {}
      },
      "cell_type": "code",
      "source": [
        "import pandas as pd"
      ],
      "execution_count": 0,
      "outputs": []
    },
    {
      "metadata": {
        "id": "Hsr1jRYFjALA",
        "colab_type": "text"
      },
      "cell_type": "markdown",
      "source": [
        "For dealing with the the mathematical portion of our calculations as well as matrix calculations we use numpy"
      ]
    },
    {
      "metadata": {
        "id": "eVMDMfhrjIPS",
        "colab_type": "code",
        "colab": {}
      },
      "cell_type": "code",
      "source": [
        "import numpy as np"
      ],
      "execution_count": 0,
      "outputs": []
    },
    {
      "metadata": {
        "id": "QcsfFPAljKyQ",
        "colab_type": "text"
      },
      "cell_type": "markdown",
      "source": [
        "For our models we use an sklearn backend. Each model is imported seperately for clarity."
      ]
    },
    {
      "metadata": {
        "id": "1QjmE75yTzZL",
        "colab_type": "code",
        "colab": {}
      },
      "cell_type": "code",
      "source": [
        "from sklearn.model_selection import train_test_split\n",
        "from sklearn import preprocessing\n",
        "from sklearn import metrics\n",
        "\n",
        "from sklearn import feature_selection\n",
        "\n",
        "from sklearn.linear_model import LinearRegression as sklr\n",
        "\n",
        "#Support Vector Regression\n",
        "from sklearn.svm import SVR"
      ],
      "execution_count": 0,
      "outputs": []
    },
    {
      "metadata": {
        "id": "kba4dzY5jT-A",
        "colab_type": "text"
      },
      "cell_type": "markdown",
      "source": [
        "And finally for data visualization we used matplotlib."
      ]
    },
    {
      "metadata": {
        "id": "464LZTM8jYB4",
        "colab_type": "code",
        "colab": {}
      },
      "cell_type": "code",
      "source": [
        "import matplotlib.pyplot as plt"
      ],
      "execution_count": 0,
      "outputs": []
    },
    {
      "metadata": {
        "id": "UPb5lPK5ihhi",
        "colab_type": "text"
      },
      "cell_type": "markdown",
      "source": [
        "# DELETE THIS NEXT PART\n",
        "Importing the files from google drive will not be necessary when submitting the file"
      ]
    },
    {
      "metadata": {
        "id": "7HBuqEpsUw80",
        "colab_type": "text"
      },
      "cell_type": "markdown",
      "source": [
        "## Import File\n",
        "\n",
        "The code below is used to import the csv file from google drive. The code should work as long as the indicators.csv file is either on your google drive or shared with your account. If it is on your google drive you have to make sure the file id in CreateFile is correct"
      ]
    },
    {
      "metadata": {
        "id": "mg_rX2s3oGGp",
        "colab_type": "code",
        "colab": {}
      },
      "cell_type": "code",
      "source": [
        "!pip install -U -q PyDrive\n",
        "\n",
        "from pydrive.auth import GoogleAuth\n",
        "from pydrive.drive import GoogleDrive\n",
        "from google.colab import auth\n",
        "from oauth2client.client import GoogleCredentials\n",
        "\n",
        "# 1. Authenticate and create the PyDrive client.\n",
        "auth.authenticate_user()\n",
        "gauth = GoogleAuth()\n",
        "gauth.credentials = GoogleCredentials.get_application_default()\n",
        "drive = GoogleDrive(gauth)"
      ],
      "execution_count": 0,
      "outputs": []
    },
    {
      "metadata": {
        "id": "EPntSnzLUDDV",
        "colab_type": "code",
        "colab": {}
      },
      "cell_type": "code",
      "source": [
        "#2. Get the file\n",
        "downloaded = drive.CreateFile({'id':'1tamVVMEyXlOm0I7oq9eFqdUh1bJ6DVzu'}) # replace the id with id of file you want to access\n",
        "downloaded.GetContentFile('indicators.csv')  "
      ],
      "execution_count": 0,
      "outputs": []
    },
    {
      "metadata": {
        "id": "RVOOQgjrLayD",
        "colab_type": "code",
        "colab": {}
      },
      "cell_type": "code",
      "source": [
        ""
      ],
      "execution_count": 0,
      "outputs": []
    },
    {
      "metadata": {
        "id": "Nui3QAhgjs2w",
        "colab_type": "text"
      },
      "cell_type": "markdown",
      "source": [
        "# Reading and Formatting the Data Frame"
      ]
    },
    {
      "metadata": {
        "id": "sqFZLvKRjxNR",
        "colab_type": "text"
      },
      "cell_type": "markdown",
      "source": [
        "To start we read in the data from a csv file called `indicators.csv`"
      ]
    },
    {
      "metadata": {
        "id": "_OqjSB9Ba3yj",
        "colab_type": "code",
        "colab": {
          "base_uri": "https://localhost:8080/",
          "height": 328
        },
        "outputId": "b80447ec-e1ab-4679-ee81-9aee10cce23c"
      },
      "cell_type": "code",
      "source": [
        "#Read in data frame\n",
        "url=\"https://raw.githubusercontent.com/cs109/2014_data/master/countries.csv\"\n",
        "s = requests.get(url).content\n",
        "indicators = =pd.read_csv(io.StringIO(s.decode('utf-8')))\n",
        "indicators = pd.read_csv('indicators.csv', sep = ',')\n",
        "indicators.head(9)"
      ],
      "execution_count": 16,
      "outputs": [
        {
          "output_type": "execute_result",
          "data": {
            "text/html": [
              "<div>\n",
              "<style scoped>\n",
              "    .dataframe tbody tr th:only-of-type {\n",
              "        vertical-align: middle;\n",
              "    }\n",
              "\n",
              "    .dataframe tbody tr th {\n",
              "        vertical-align: top;\n",
              "    }\n",
              "\n",
              "    .dataframe thead th {\n",
              "        text-align: right;\n",
              "    }\n",
              "</style>\n",
              "<table border=\"1\" class=\"dataframe\">\n",
              "  <thead>\n",
              "    <tr style=\"text-align: right;\">\n",
              "      <th></th>\n",
              "      <th>CountryName</th>\n",
              "      <th>CountryCode</th>\n",
              "      <th>IndicatorName</th>\n",
              "      <th>IndicatorCode</th>\n",
              "      <th>Year</th>\n",
              "      <th>Value</th>\n",
              "    </tr>\n",
              "  </thead>\n",
              "  <tbody>\n",
              "    <tr>\n",
              "      <th>0</th>\n",
              "      <td>Arab World</td>\n",
              "      <td>ARB</td>\n",
              "      <td>Adolescent fertility rate (births per 1,000 wo...</td>\n",
              "      <td>SP.ADO.TFRT</td>\n",
              "      <td>1960</td>\n",
              "      <td>1.335609e+02</td>\n",
              "    </tr>\n",
              "    <tr>\n",
              "      <th>1</th>\n",
              "      <td>Arab World</td>\n",
              "      <td>ARB</td>\n",
              "      <td>Age dependency ratio (% of working-age populat...</td>\n",
              "      <td>SP.POP.DPND</td>\n",
              "      <td>1960</td>\n",
              "      <td>8.779760e+01</td>\n",
              "    </tr>\n",
              "    <tr>\n",
              "      <th>2</th>\n",
              "      <td>Arab World</td>\n",
              "      <td>ARB</td>\n",
              "      <td>Age dependency ratio, old (% of working-age po...</td>\n",
              "      <td>SP.POP.DPND.OL</td>\n",
              "      <td>1960</td>\n",
              "      <td>6.634579e+00</td>\n",
              "    </tr>\n",
              "    <tr>\n",
              "      <th>3</th>\n",
              "      <td>Arab World</td>\n",
              "      <td>ARB</td>\n",
              "      <td>Age dependency ratio, young (% of working-age ...</td>\n",
              "      <td>SP.POP.DPND.YG</td>\n",
              "      <td>1960</td>\n",
              "      <td>8.102333e+01</td>\n",
              "    </tr>\n",
              "    <tr>\n",
              "      <th>4</th>\n",
              "      <td>Arab World</td>\n",
              "      <td>ARB</td>\n",
              "      <td>Arms exports (SIPRI trend indicator values)</td>\n",
              "      <td>MS.MIL.XPRT.KD</td>\n",
              "      <td>1960</td>\n",
              "      <td>3.000000e+06</td>\n",
              "    </tr>\n",
              "    <tr>\n",
              "      <th>5</th>\n",
              "      <td>Arab World</td>\n",
              "      <td>ARB</td>\n",
              "      <td>Arms imports (SIPRI trend indicator values)</td>\n",
              "      <td>MS.MIL.MPRT.KD</td>\n",
              "      <td>1960</td>\n",
              "      <td>5.380000e+08</td>\n",
              "    </tr>\n",
              "    <tr>\n",
              "      <th>6</th>\n",
              "      <td>Arab World</td>\n",
              "      <td>ARB</td>\n",
              "      <td>Birth rate, crude (per 1,000 people)</td>\n",
              "      <td>SP.DYN.CBRT.IN</td>\n",
              "      <td>1960</td>\n",
              "      <td>4.769789e+01</td>\n",
              "    </tr>\n",
              "    <tr>\n",
              "      <th>7</th>\n",
              "      <td>Arab World</td>\n",
              "      <td>ARB</td>\n",
              "      <td>CO2 emissions (kt)</td>\n",
              "      <td>EN.ATM.CO2E.KT</td>\n",
              "      <td>1960</td>\n",
              "      <td>5.956399e+04</td>\n",
              "    </tr>\n",
              "    <tr>\n",
              "      <th>8</th>\n",
              "      <td>Arab World</td>\n",
              "      <td>ARB</td>\n",
              "      <td>CO2 emissions (metric tons per capita)</td>\n",
              "      <td>EN.ATM.CO2E.PC</td>\n",
              "      <td>1960</td>\n",
              "      <td>6.439635e-01</td>\n",
              "    </tr>\n",
              "  </tbody>\n",
              "</table>\n",
              "</div>"
            ],
            "text/plain": [
              "  CountryName CountryCode                                      IndicatorName  \\\n",
              "0  Arab World         ARB  Adolescent fertility rate (births per 1,000 wo...   \n",
              "1  Arab World         ARB  Age dependency ratio (% of working-age populat...   \n",
              "2  Arab World         ARB  Age dependency ratio, old (% of working-age po...   \n",
              "3  Arab World         ARB  Age dependency ratio, young (% of working-age ...   \n",
              "4  Arab World         ARB        Arms exports (SIPRI trend indicator values)   \n",
              "5  Arab World         ARB        Arms imports (SIPRI trend indicator values)   \n",
              "6  Arab World         ARB               Birth rate, crude (per 1,000 people)   \n",
              "7  Arab World         ARB                                 CO2 emissions (kt)   \n",
              "8  Arab World         ARB             CO2 emissions (metric tons per capita)   \n",
              "\n",
              "    IndicatorCode  Year         Value  \n",
              "0     SP.ADO.TFRT  1960  1.335609e+02  \n",
              "1     SP.POP.DPND  1960  8.779760e+01  \n",
              "2  SP.POP.DPND.OL  1960  6.634579e+00  \n",
              "3  SP.POP.DPND.YG  1960  8.102333e+01  \n",
              "4  MS.MIL.XPRT.KD  1960  3.000000e+06  \n",
              "5  MS.MIL.MPRT.KD  1960  5.380000e+08  \n",
              "6  SP.DYN.CBRT.IN  1960  4.769789e+01  \n",
              "7  EN.ATM.CO2E.KT  1960  5.956399e+04  \n",
              "8  EN.ATM.CO2E.PC  1960  6.439635e-01  "
            ]
          },
          "metadata": {
            "tags": []
          },
          "execution_count": 16
        }
      ]
    },
    {
      "metadata": {
        "id": "OItbffiGUt9F",
        "colab_type": "text"
      },
      "cell_type": "markdown",
      "source": [
        "## Extract the relevant rows\n",
        "\n",
        "Now that we have the dataframe we select the indicators. We preselected a set of indicators relevant to agriculture. We begin by putting our selected variables into a dictionary with the key being the human readable name for the indicator and the value being the indicator code used by the dataset."
      ]
    },
    {
      "metadata": {
        "id": "FPIO1f-edPEK",
        "colab_type": "code",
        "colab": {}
      },
      "cell_type": "code",
      "source": [
        "#Select only relevant indicators\n",
        "ag_indicators = {\n",
        "    'ag machinery, tractors':'AG.AGR.TRAC.NO',\n",
        "    'ag machinery per 100 sq km':'AG.LND.TRAC.ZS',\n",
        "    'ag value added per worker':'EA.PRD.AGRI.KD',\n",
        "    'cereal production, tons':'AG.PRD.CREL.MT',\n",
        "    'cereal yield, kg per hectare':'AG.YLD.CREL.KG',\n",
        "    'fertilizer consumption, % (quantity used per unit of arable land)':'AG.CON.FERT.PT.ZS',\n",
        "    'fertilizer consumption, kg per hectare of arable land':'AG.CON.FERT.ZS',\n",
        "    'land under cereal production, hectare':'AG.LND.CREL.HA',\n",
        "    'ag irrigated land, %':'AG.LND.IRIG.AG.ZS',\n",
        "    'ag total land, %':'AG.LND.AGRI.ZS',\n",
        "    'ag total land, sq km':'AG.LND.AGRI.K2',\n",
        "    'arable land, %':'AG.LND.ARBL.ZS',\n",
        "    'arable land, hectares':'AG.LND.ARBL.HA',\n",
        "    'average precipitation, mm per year':'AG.LND.PRCP.MM',\n",
        "    'land area, sq km':'AG.LND.TOTL.K2',\n",
        "    'permanent cropland, %':'AG.LND.CROP.ZS',\n",
        "    'food production index':'AG.PRD.FOOD.XD',\n",
        "    'value added agriculture':'NV.AGR.TOTL.KD'\n",
        "}    \n"
      ],
      "execution_count": 0,
      "outputs": []
    },
    {
      "metadata": {
        "id": "79N0qivVlpVX",
        "colab_type": "text"
      },
      "cell_type": "markdown",
      "source": [
        "Now that we have defined what indicators we want to select we run through our data and select only the rows which have indicator codes matching the ones in our dictionary. We then store these in a dictionary where the key is the indicator code and the value is all the relevant rows."
      ]
    },
    {
      "metadata": {
        "id": "ZywVJvPnldeZ",
        "colab_type": "code",
        "colab": {}
      },
      "cell_type": "code",
      "source": [
        "\n",
        "#Formatted as a dict keyed by indicator code\n",
        "#Each value is a dataframe containing the rows relevant to the indicator split by country and year\n",
        "agDF = {}\n",
        "keys = []\n",
        "values = []\n",
        "for key, value in ag_indicators.items():\n",
        "    rows = indicators.loc[indicators['IndicatorCode'] == value][['CountryCode', 'Year', 'Value']]\n",
        "    keys.append(key)\n",
        "    values.append(rows)\n",
        "    agDF[key] = rows "
      ],
      "execution_count": 0,
      "outputs": []
    },
    {
      "metadata": {
        "id": "Uj-I0XZboxZQ",
        "colab_type": "text"
      },
      "cell_type": "markdown",
      "source": [
        "In addition to the features built into the table, we define an additional feature corresponding to the raw fertilizer consumption by country."
      ]
    },
    {
      "metadata": {
        "id": "Tg0DIS08oudN",
        "colab_type": "code",
        "colab": {}
      },
      "cell_type": "code",
      "source": [
        "\n",
        "#Calculate total fertilizer used\n",
        "fertilizer = clean(['fertilizer_consumption', 'arable_land'],\n",
        "                    agDF['fertilizer consumption, kg per hectare of arable land'],\n",
        "                    agDF['arable land, hectares'])\n",
        "fertilizer['Value'] = fertilizer.fertilizer_consumption * fertilizer.arable_land\n",
        "fertilizer.drop(['fertilizer_consumption','arable_land'],axis=1,inplace=True)\n",
        "\n",
        "agDF['fertilizer'] = fertilizer\n"
      ],
      "execution_count": 0,
      "outputs": []
    },
    {
      "metadata": {
        "id": "CEnR2mWgUjoU",
        "colab_type": "text"
      },
      "cell_type": "markdown",
      "source": [
        "##Format the indicators into one data frame"
      ]
    },
    {
      "metadata": {
        "id": "vsHaEiM2nZzw",
        "colab_type": "text"
      },
      "cell_type": "markdown",
      "source": [
        "This part is actually jumpting ahead a little bit but it's easier to solve now than later. The countries in the data set aren't strictly countries. Some of the \"countries\" are actually regions. The problem that arises is that countries end up getting double counted whihc in some cases can skew our results. As such when we collect our data set we preemptively remove the non-country countries. "
      ]
    },
    {
      "metadata": {
        "id": "CowFUmjaUiN0",
        "colab_type": "code",
        "colab": {}
      },
      "cell_type": "code",
      "source": [
        "regions = ['ARB','CSS','EAS','EAP','ECS','ECA','EUU','FCS','HPC','HIC','NOC','OEC','LCN',\n",
        "           'LAC','LDC','LMY','LIC','LMC','MEA','MNA','MIC','NAC','MNP','OED','OSS','PSS',\n",
        "           'SST','SAS','ZAF','SSF','SSA','UMC','WLD']\n"
      ],
      "execution_count": 0,
      "outputs": []
    },
    {
      "metadata": {
        "id": "5QM-OVKon1xa",
        "colab_type": "text"
      },
      "cell_type": "markdown",
      "source": [
        "We define a helpre function we refer to as `clean`. This function takes in the column names and a series of data frames corresponding to the different indicators. These frames are merged together by the country code and year. By the time this is done we should have a data frame where each row is a country/year pair and the columns are the features we selected."
      ]
    },
    {
      "metadata": {
        "id": "s1HgkhQJn0KA",
        "colab_type": "code",
        "colab": {}
      },
      "cell_type": "code",
      "source": [
        "\"\"\"\n",
        "clean: Formats the frames given in df1 and *data to make a single data frame\n",
        "input: list of string + dataframe\n",
        "names: column names for given columns in order\n",
        "output: dataframe in format: CountryCode, year, indicators**\n",
        "\"\"\"\n",
        "def clean(names, df1, *data):\n",
        "    n = 0\n",
        "    df = df1.copy()\n",
        "    if 'Value' in df1.columns.values:\n",
        "        df.rename(columns={'Value':names[n]}, inplace=True)\n",
        "        n += 1\n",
        "    for f in data:\n",
        "        frame = f.copy()\n",
        "        if 'Value' in frame.columns.values:\n",
        "            frame.rename(columns={'Value':names[n]}, inplace=True)\n",
        "            n += 1\n",
        "        df = pd.merge(df, frame, how='left', on=['CountryCode','Year'])\n",
        "    # Necessary to remove the double-counting regions noted in the first section\n",
        "    for name in regions:\n",
        "        df.drop(df.loc[df.CountryCode == name].index, inplace=True)\n",
        "    return df\n"
      ],
      "execution_count": 0,
      "outputs": []
    },
    {
      "metadata": {
        "id": "SkhATo07pHIO",
        "colab_type": "text"
      },
      "cell_type": "markdown",
      "source": [
        "We actually build two versions of our data frame. The first is using a smaller subset of the variables selected via inuition. This data frame is simply named  `df`. The second data frame contains all of the variables relevant to agriculture(although a few are removed due to only containing a few hundred samples). This second data frame we will later use to feed into feature selection to compare to our intuition.\n",
        "\n",
        "For both data frames we drop the country code and year for two reasons. The first reason is that we simply no longer need them. None of our models are cluster based or otherwise rely on knowing the labels. The second reasons is that non-numeric features get in the way of any mathematical calculations done on the data frames so it is simply easier to just remove them."
      ]
    },
    {
      "metadata": {
        "id": "8nclZFYzo8ql",
        "colab_type": "code",
        "colab": {
          "base_uri": "https://localhost:8080/",
          "height": 238
        },
        "outputId": "a10dd66f-f25b-491d-d451-b283022ee1ee"
      },
      "cell_type": "code",
      "source": [
        "\n",
        "df = clean(\n",
        "    [\"cereal production\", 'tractors', 'fertilizer', 'average precipitation', 'land under cereal production',\n",
        "     'ag total land', 'arable land', 'land area'],\n",
        "    agDF['cereal production, tons'],\n",
        "    agDF['ag machinery, tractors'],\n",
        "    agDF['fertilizer'],\n",
        "    agDF['average precipitation, mm per year'],\n",
        "    agDF['land under cereal production, hectare'],\n",
        "    agDF['ag total land, sq km'],\n",
        "    agDF['arable land, hectares'],\n",
        "    agDF['land area, sq km']\n",
        ")\n",
        "\n",
        "df_full = clean(keys,\n",
        "          *values)\n",
        "\n",
        "df_full = df_full.drop(['CountryCode', 'Year', 'fertilizer consumption, % (quantity used per unit of arable land)',\n",
        "             'fertilizer consumption, kg per hectare of arable land', 'ag irrigated land, %'], axis = 1)\n",
        "\n",
        "df = df.drop(['CountryCode','Year'], axis=1)\n",
        "\n",
        "df.info()"
      ],
      "execution_count": 23,
      "outputs": [
        {
          "output_type": "stream",
          "text": [
            "<class 'pandas.core.frame.DataFrame'>\n",
            "Int64Index: 8686 entries, 2 to 10381\n",
            "Data columns (total 8 columns):\n",
            "cereal production               8686 non-null float64\n",
            "tractors                        5574 non-null float64\n",
            "fertilizer                      1787 non-null float64\n",
            "average precipitation           1744 non-null float64\n",
            "land under cereal production    8686 non-null float64\n",
            "ag total land                   8672 non-null float64\n",
            "arable land                     8566 non-null float64\n",
            "land area                       8686 non-null float64\n",
            "dtypes: float64(8)\n",
            "memory usage: 610.7 KB\n"
          ],
          "name": "stdout"
        }
      ]
    },
    {
      "metadata": {
        "id": "YF2XSQS2qCVf",
        "colab_type": "code",
        "colab": {
          "base_uri": "https://localhost:8080/",
          "height": 357
        },
        "outputId": "9bdd76ff-707e-4597-c14a-3e6154d4d80a"
      },
      "cell_type": "code",
      "source": [
        "df_full.info()"
      ],
      "execution_count": 24,
      "outputs": [
        {
          "output_type": "stream",
          "text": [
            "<class 'pandas.core.frame.DataFrame'>\n",
            "Int64Index: 6086 entries, 4 to 7243\n",
            "Data columns (total 15 columns):\n",
            "ag machinery, tractors                   6086 non-null float64\n",
            "ag machinery per 100 sq km               6035 non-null float64\n",
            "ag value added per worker                2318 non-null float64\n",
            "cereal production, tons                  5574 non-null float64\n",
            "cereal yield, kg per hectare             5484 non-null float64\n",
            "land under cereal production, hectare    5574 non-null float64\n",
            "ag total land, %                         6086 non-null float64\n",
            "ag total land, sq km                     6086 non-null float64\n",
            "arable land, %                           6035 non-null float64\n",
            "arable land, hectares                    5974 non-null float64\n",
            "average precipitation, mm per year       1161 non-null float64\n",
            "land area, sq km                         6086 non-null float64\n",
            "permanent cropland, %                    5819 non-null float64\n",
            "food production index                    6064 non-null float64\n",
            "value added agriculture                  3289 non-null float64\n",
            "dtypes: float64(15)\n",
            "memory usage: 760.8 KB\n"
          ],
          "name": "stdout"
        }
      ]
    },
    {
      "metadata": {
        "id": "Stnao3yg9v5v",
        "colab_type": "text"
      },
      "cell_type": "markdown",
      "source": [
        "## Imputation\n",
        "\n",
        "As can be seen in the data summaries from the previous sections, some of the indicators are rather sparse. In particular, average participation and fertilizer usage both have around 1750 non null rows. To help correct that, we use regression imputation to help fill in some of these non null values.\n",
        "\n",
        "Essentially, we train a regression model on the rows for which the given indicator is defined and then use that model to predict the values for the rows where the indicator is not defined."
      ]
    },
    {
      "metadata": {
        "id": "xAUMKh2Y2ydp",
        "colab_type": "code",
        "colab": {
          "base_uri": "https://localhost:8080/",
          "height": 238
        },
        "outputId": "eb09e014-deea-4ed8-fae4-af69cd6180df"
      },
      "cell_type": "code",
      "source": [
        "def contains_nan(row):\n",
        "  return pd.isnull(row).any()\n",
        "\n",
        "def imputate(df, label):\n",
        "  train = df.loc[pd.isnull(df[label]) == False]\n",
        "  \n",
        "  cols = list(train.columns.values)\n",
        "  cols.remove(label)\n",
        "  \n",
        "  train = train.dropna(axis = 0, how = 'any', subset = cols)\n",
        "  \n",
        "  train_y = train[label]\n",
        "  train_x = train.drop(label, axis = 1)\n",
        "  \n",
        "  regr = sklr()\n",
        "  \n",
        "  model = regr.fit(train_x, y = train_y)\n",
        "  \n",
        "  def f(x):\n",
        "    x_param = x[:]\n",
        "    x_param = x_param.drop(label)\n",
        "    \n",
        "    if(pd.isnull(x[label]) and not contains_nan(x_param)):\n",
        "      return model.predict(x_param.values.reshape(1,-1))\n",
        "    else:\n",
        "      return x[label]\n",
        "  \n",
        "  df[label] = df.apply(f, axis = 1)\n",
        "\n",
        "  return df\n",
        "  \n"
      ],
      "execution_count": 7,
      "outputs": [
        {
          "output_type": "stream",
          "text": [
            "<class 'pandas.core.frame.DataFrame'>\n",
            "Int64Index: 8569 entries, 2 to 10381\n",
            "Data columns (total 8 columns):\n",
            "cereal production               8569 non-null float64\n",
            "tractors                        5830 non-null object\n",
            "fertilizer                      2777 non-null object\n",
            "average precipitation           1937 non-null object\n",
            "land under cereal production    8569 non-null float64\n",
            "ag total land                   8555 non-null float64\n",
            "arable land                     8449 non-null float64\n",
            "land area                       8569 non-null float64\n",
            "dtypes: float64(5), object(3)\n",
            "memory usage: 602.5+ KB\n"
          ],
          "name": "stdout"
        }
      ]
    },
    {
      "metadata": {
        "id": "HWz05W2fMGlb",
        "colab_type": "text"
      },
      "cell_type": "markdown",
      "source": [
        "Since imputation only works for rows where every indicator except the one being targeted is non-null, this greatly restricts the number of rows we can fill in at a time. The main problem is that `fertilizer` and `average precipitation` are both very sparse and have little overlap. In fact, the number of rows in the initial data set where both are non-null is only 88. To fix that, we alternate between imputating over the two indicators over and over again to slowly fill in the data set.  "
      ]
    },
    {
      "metadata": {
        "id": "IlM0daTqMEcE",
        "colab_type": "code",
        "colab": {}
      },
      "cell_type": "code",
      "source": [
        "\n",
        "#Upping this count to 40 creates no significant improvement\n",
        "for i in range(10):\n",
        "  df = imputate(df, 'average precipitation')\n",
        "  df = imputate(df, 'fertilizer')\n",
        "\n",
        "df = imputate(df, 'tractors')\n",
        "\n",
        "df.info()"
      ],
      "execution_count": 0,
      "outputs": []
    },
    {
      "metadata": {
        "id": "bLgrfxXmjxZR",
        "colab_type": "code",
        "colab": {}
      },
      "cell_type": "code",
      "source": [
        "for i in range(10):\n",
        "  for i in range(10):\n",
        "    df_test = imputate(df_test, 'average precipitation, mm per year')\n",
        "    df_test = imputate(df_test, 'ag value added per worker')\n",
        "\n",
        "  df_test = imputate(df_test, 'value added agriculture')"
      ],
      "execution_count": 0,
      "outputs": []
    },
    {
      "metadata": {
        "id": "xRfcNItq0Q1C",
        "colab_type": "text"
      },
      "cell_type": "markdown",
      "source": [
        "### Data Filtering"
      ]
    },
    {
      "metadata": {
        "id": "rBfaYcwH0MCD",
        "colab_type": "code",
        "colab": {
          "base_uri": "https://localhost:8080/",
          "height": 34
        },
        "outputId": "7033bf22-02d3-4d23-faea-fd33a34367da"
      },
      "cell_type": "code",
      "source": [
        "df = df.dropna(axis = 0, how = 'any')\n",
        "\n",
        "df.shape"
      ],
      "execution_count": 16,
      "outputs": [
        {
          "output_type": "execute_result",
          "data": {
            "text/plain": [
              "(1661, 8)"
            ]
          },
          "metadata": {
            "tags": []
          },
          "execution_count": 16
        }
      ]
    },
    {
      "metadata": {
        "id": "mVSsIVx_tlEt",
        "colab_type": "text"
      },
      "cell_type": "markdown",
      "source": [
        "## Feature Selection\n",
        "\n",
        "#### Using SelectKBest"
      ]
    },
    {
      "metadata": {
        "id": "i3bHzWOHCmwP",
        "colab_type": "code",
        "colab": {
          "base_uri": "https://localhost:8080/",
          "height": 357
        },
        "outputId": "e2f5ec72-ca8a-4749-c0db-9b851e9a91a5"
      },
      "cell_type": "code",
      "source": [
        "df_test.info()"
      ],
      "execution_count": 13,
      "outputs": [
        {
          "output_type": "stream",
          "text": [
            "<class 'pandas.core.frame.DataFrame'>\n",
            "Int64Index: 2348 entries, 219 to 7243\n",
            "Data columns (total 15 columns):\n",
            "ag machinery, tractors                   2348 non-null float64\n",
            "ag machinery per 100 sq km               2348 non-null float64\n",
            "ag value added per worker                2348 non-null object\n",
            "cereal production, tons                  2348 non-null float64\n",
            "cereal yield, kg per hectare             2348 non-null float64\n",
            "land under cereal production, hectare    2348 non-null float64\n",
            "ag total land, %                         2348 non-null float64\n",
            "ag total land, sq km                     2348 non-null float64\n",
            "arable land, %                           2348 non-null float64\n",
            "arable land, hectares                    2348 non-null float64\n",
            "average precipitation, mm per year       2348 non-null object\n",
            "land area, sq km                         2348 non-null float64\n",
            "permanent cropland, %                    2348 non-null float64\n",
            "food production index                    2348 non-null float64\n",
            "value added agriculture                  2348 non-null float64\n",
            "dtypes: float64(13), object(2)\n",
            "memory usage: 293.5+ KB\n"
          ],
          "name": "stdout"
        }
      ]
    },
    {
      "metadata": {
        "id": "qlqAvNAjtkct",
        "colab_type": "code",
        "colab": {
          "base_uri": "https://localhost:8080/",
          "height": 122
        },
        "outputId": "28ffc2bf-9c61-407a-975b-bab258704e89"
      },
      "cell_type": "code",
      "source": [
        "fs = feature_selection.SelectKBest(k = 4)\n",
        "\n",
        "df_test = df_test.dropna(axis = 0, how = 'any')\n",
        "\n",
        "df_y = df_test['cereal production, tons']\n",
        "df_x = df_test.drop('cereal production, tons', axis = 1)\n",
        "print(list(df_x.columns.values))\n",
        "\n",
        "fs.fit(df_x, df_y)\n",
        "print(fs.get_support())\n",
        "print(np.array(df_x.columns.values)[np.array(fs.get_support())])"
      ],
      "execution_count": 22,
      "outputs": [
        {
          "output_type": "stream",
          "text": [
            "['ag machinery, tractors', 'ag machinery per 100 sq km', 'ag value added per worker', 'cereal yield, kg per hectare', 'land under cereal production, hectare', 'ag total land, %', 'ag total land, sq km', 'arable land, %', 'arable land, hectares', 'average precipitation, mm per year', 'land area, sq km', 'permanent cropland, %', 'food production index', 'value added agriculture']\n",
            "[ True False False False  True False False False  True False False False\n",
            " False  True]\n",
            "['ag machinery, tractors' 'land under cereal production, hectare'\n",
            " 'arable land, hectares' 'value added agriculture']\n"
          ],
          "name": "stdout"
        }
      ]
    },
    {
      "metadata": {
        "id": "rec-QPLLwgVo",
        "colab_type": "text"
      },
      "cell_type": "markdown",
      "source": [
        "With k = 4,SelectKBest selects tractors, land under cereal production, arable land, and land area as the k features\n",
        "With k = 3, land area gets dropped"
      ]
    },
    {
      "metadata": {
        "id": "TEV1mY3BxKnd",
        "colab_type": "text"
      },
      "cell_type": "markdown",
      "source": [
        "#### Using Recursive Feature Elimination\n"
      ]
    },
    {
      "metadata": {
        "id": "aVXtYbDMxNk-",
        "colab_type": "code",
        "colab": {
          "base_uri": "https://localhost:8080/",
          "height": 119
        },
        "outputId": "775d6cfc-31ee-4b2b-b781-3ed43200f25a"
      },
      "cell_type": "code",
      "source": [
        "reg = sklr(normalize = True)\n",
        "\n",
        "rfe = feature_selection.RFECV(estimator = reg, scoring = 'r2')\n",
        "\n",
        "rfe.fit(df_x, df_y)\n",
        "\n",
        "rfe.n_features_\n",
        "\n",
        "print(np.array(df_x.columns.values)[np.array(rfe.get_support())])\n",
        "selected = np.array(df_x.columns.values)[np.array(rfe.get_support())]"
      ],
      "execution_count": 45,
      "outputs": [
        {
          "output_type": "stream",
          "text": [
            "['ag machinery, tractors' 'ag machinery per 100 sq km'\n",
            " 'ag value added per worker' 'cereal yield, kg per hectare'\n",
            " 'land under cereal production, hectare' 'ag total land, %'\n",
            " 'ag total land, sq km' 'arable land, %'\n",
            " 'average precipitation, mm per year' 'land area, sq km'\n",
            " 'permanent cropland, %' 'food production index']\n"
          ],
          "name": "stdout"
        }
      ]
    },
    {
      "metadata": {
        "id": "xMy68n0Zuvt2",
        "colab_type": "text"
      },
      "cell_type": "markdown",
      "source": [
        "### Split dataframe into train/test"
      ]
    },
    {
      "metadata": {
        "id": "prGdWavAuQZ2",
        "colab_type": "code",
        "colab": {
          "base_uri": "https://localhost:8080/",
          "height": 204
        },
        "outputId": "f160e92e-d98d-438a-ec06-aa74785baff4"
      },
      "cell_type": "code",
      "source": [
        "train, test = sk.model_selection.train_test_split(df, test_size = 0.2)\n",
        "\n",
        "train.head()"
      ],
      "execution_count": 48,
      "outputs": [
        {
          "output_type": "execute_result",
          "data": {
            "text/html": [
              "<div>\n",
              "<style scoped>\n",
              "    .dataframe tbody tr th:only-of-type {\n",
              "        vertical-align: middle;\n",
              "    }\n",
              "\n",
              "    .dataframe tbody tr th {\n",
              "        vertical-align: top;\n",
              "    }\n",
              "\n",
              "    .dataframe thead th {\n",
              "        text-align: right;\n",
              "    }\n",
              "</style>\n",
              "<table border=\"1\" class=\"dataframe\">\n",
              "  <thead>\n",
              "    <tr style=\"text-align: right;\">\n",
              "      <th></th>\n",
              "      <th>cereal production</th>\n",
              "      <th>tractors</th>\n",
              "      <th>average precipitation</th>\n",
              "      <th>land under cereal production</th>\n",
              "      <th>ag total land</th>\n",
              "      <th>arable land</th>\n",
              "      <th>land area</th>\n",
              "    </tr>\n",
              "  </thead>\n",
              "  <tbody>\n",
              "    <tr>\n",
              "      <th>2170</th>\n",
              "      <td>16912500.0</td>\n",
              "      <td>115606.0</td>\n",
              "      <td>637.0</td>\n",
              "      <td>6238400.0</td>\n",
              "      <td>149430.0</td>\n",
              "      <td>9713000.0</td>\n",
              "      <td>230340.0</td>\n",
              "    </tr>\n",
              "    <tr>\n",
              "      <th>3973</th>\n",
              "      <td>2065900.0</td>\n",
              "      <td>29956.0</td>\n",
              "      <td>216.0</td>\n",
              "      <td>2355875.0</td>\n",
              "      <td>94500.0</td>\n",
              "      <td>5250000.0</td>\n",
              "      <td>437370.0</td>\n",
              "    </tr>\n",
              "    <tr>\n",
              "      <th>5928</th>\n",
              "      <td>3179.0</td>\n",
              "      <td>174.0</td>\n",
              "      <td>78.0</td>\n",
              "      <td>1373.0</td>\n",
              "      <td>3390.0</td>\n",
              "      <td>38000.0</td>\n",
              "      <td>83600.0</td>\n",
              "    </tr>\n",
              "    <tr>\n",
              "      <th>346</th>\n",
              "      <td>2238756.0</td>\n",
              "      <td>5591.0</td>\n",
              "      <td>252.0</td>\n",
              "      <td>2268047.0</td>\n",
              "      <td>149700.0</td>\n",
              "      <td>6200000.0</td>\n",
              "      <td>183780.0</td>\n",
              "    </tr>\n",
              "    <tr>\n",
              "      <th>1249</th>\n",
              "      <td>855300.0</td>\n",
              "      <td>250.0</td>\n",
              "      <td>686.0</td>\n",
              "      <td>1344165.0</td>\n",
              "      <td>89470.0</td>\n",
              "      <td>3232000.0</td>\n",
              "      <td>192530.0</td>\n",
              "    </tr>\n",
              "  </tbody>\n",
              "</table>\n",
              "</div>"
            ],
            "text/plain": [
              "      cereal production  tractors  average precipitation  \\\n",
              "2170         16912500.0  115606.0                  637.0   \n",
              "3973          2065900.0   29956.0                  216.0   \n",
              "5928             3179.0     174.0                   78.0   \n",
              "346           2238756.0    5591.0                  252.0   \n",
              "1249           855300.0     250.0                  686.0   \n",
              "\n",
              "      land under cereal production  ag total land  arable land  land area  \n",
              "2170                     6238400.0       149430.0    9713000.0   230340.0  \n",
              "3973                     2355875.0        94500.0    5250000.0   437370.0  \n",
              "5928                        1373.0         3390.0      38000.0    83600.0  \n",
              "346                      2268047.0       149700.0    6200000.0   183780.0  \n",
              "1249                     1344165.0        89470.0    3232000.0   192530.0  "
            ]
          },
          "metadata": {
            "tags": []
          },
          "execution_count": 48
        }
      ]
    },
    {
      "metadata": {
        "id": "kjPtOKEfuAA-",
        "colab_type": "text"
      },
      "cell_type": "markdown",
      "source": [
        "## Linear Regression Model"
      ]
    },
    {
      "metadata": {
        "id": "stMGMATjtoCN",
        "colab_type": "code",
        "colab": {}
      },
      "cell_type": "code",
      "source": [
        "train_y = train['cereal production']\n",
        "\n",
        "train_x = train.drop( 'cereal production', axis = 1)\n",
        "train_x = preprocessing.scale(train_x)"
      ],
      "execution_count": 0,
      "outputs": []
    },
    {
      "metadata": {
        "id": "TwH1HgPI2Kyx",
        "colab_type": "code",
        "colab": {
          "base_uri": "https://localhost:8080/",
          "height": 51
        },
        "outputId": "d9acc469-cdb7-450d-deaf-17218545f855"
      },
      "cell_type": "code",
      "source": [
        "score = []\n",
        "mse = []\n",
        "\n",
        "\n",
        "best_pred = []\n",
        "best_score = 0\n",
        "\n",
        "for x in range(1000):\n",
        "  train, test = sk.model_selection.train_test_split(df, test_size = 0.2)\n",
        "\n",
        "  \n",
        "  train_y = train['cereal production']\n",
        "  train_x = train.drop( 'cereal production', axis = 1)\n",
        "  \n",
        "  test_y = train['cereal production']\n",
        "  test_x = train.drop( 'cereal production', axis = 1)\n",
        "  \n",
        "  regr = sklr(normalize = True)\n",
        "  \n",
        "  regr.fit(train_x, train_y)\n",
        "  \n",
        "  pred = regr.predict(test_x)\n",
        "  score.append(regr.score(test_x,test_y))\n",
        "  \n",
        "  if(regr.score(test_x,test_y) > best_score):\n",
        "    best_pred = pred\n",
        "    best_real = test_y\n",
        "  \n",
        "  mse.append(metrics.mean_squared_error(test_y, pred))\n",
        "  \n",
        "  \n",
        "print(\"R-Squared:    {0} \\n\"\n",
        "      \"Mean-Squared: {1}\".format(np.mean(score),np.mean(mse)))"
      ],
      "execution_count": 19,
      "outputs": [
        {
          "output_type": "stream",
          "text": [
            "R-Squared:    0.9690115588811243 \n",
            "Mean-Squared: 62596601420559.0\n"
          ],
          "name": "stdout"
        }
      ]
    },
    {
      "metadata": {
        "id": "dsJqA0J6cR4V",
        "colab_type": "text"
      },
      "cell_type": "markdown",
      "source": [
        "### Real Vs. Predicted"
      ]
    },
    {
      "metadata": {
        "id": "zOLS9VEDcRWa",
        "colab_type": "code",
        "colab": {
          "base_uri": "https://localhost:8080/",
          "height": 376
        },
        "outputId": "e9ad9d28-b796-4bba-ec81-f5e6a8e61291"
      },
      "cell_type": "code",
      "source": [
        "fig, ax = plt.subplots()\n",
        "ax.scatter(best_real, best_pred, edgecolors=(0, 0, 0))\n",
        "ax.plot([best_real.min(), best_real.max()], [best_real.min(), best_real.max()], 'k--', lw=4)\n",
        "ax.set_xlabel('Measured')\n",
        "ax.set_ylabel('Predicted')\n",
        "ax.set_title('Real vs. Predicted for Linear Model')\n",
        "plt.show()"
      ],
      "execution_count": 21,
      "outputs": [
        {
          "output_type": "display_data",
          "data": {
            "image/png": "[encoded data removed]",
            "text/plain": [
              "<matplotlib.figure.Figure at 0x7f5d76d40898>"
            ]
          },
          "metadata": {
            "tags": []
          }
        }
      ]
    },
    {
      "metadata": {
        "id": "wC4LNF6vdh_g",
        "colab_type": "text"
      },
      "cell_type": "markdown",
      "source": [
        "## Regression With Feature Selection"
      ]
    },
    {
      "metadata": {
        "id": "snIR8doEdRpY",
        "colab_type": "code",
        "colab": {
          "base_uri": "https://localhost:8080/",
          "height": 51
        },
        "outputId": "4cd113fb-efbb-4a27-8528-4dfd981ab6d1"
      },
      "cell_type": "code",
      "source": [
        "score = []\n",
        "mse = []\n",
        "\n",
        "\n",
        "best_pred = []\n",
        "best_score = 0\n",
        "\n",
        "selected = selected.tolist()\n",
        "selected.append('cereal production, tons')\n",
        "df_selected = df_test[selected] \n",
        "\n",
        "df_selected = df_selected.dropna(axis = 0, how = 'any')\n",
        "\n",
        "for x in range(1000):\n",
        "  train, test = sk.model_selection.train_test_split(df_selected, test_size = 0.2)\n",
        "\n",
        "  \n",
        "  train_y = train['cereal production, tons']\n",
        "  train_x = train.drop( 'cereal production, tons', axis = 1)\n",
        "  \n",
        "  test_y = train['cereal production, tons']\n",
        "  test_x = train.drop( 'cereal production, tons', axis = 1)\n",
        "  \n",
        "  regr = sklr(normalize = True)\n",
        "  \n",
        "  regr.fit(train_x, train_y)\n",
        "  \n",
        "  pred = regr.predict(test_x)\n",
        "  score.append(regr.score(test_x,test_y))\n",
        "  \n",
        "  if(regr.score(test_x,test_y) > best_score):\n",
        "    best_pred = pred\n",
        "    best_real = test_y\n",
        "  \n",
        "  mse.append(metrics.mean_squared_error(test_y, pred))\n",
        "  \n",
        "  \n",
        "print(\"R-Squared:    {0} \\n\"\n",
        "      \"Mean-Squared: {1}\".format(np.mean(score),np.mean(mse)))"
      ],
      "execution_count": 46,
      "outputs": [
        {
          "output_type": "stream",
          "text": [
            "R-Squared:    0.8917087848614822 \n",
            "Mean-Squared: 250268130836925.94\n"
          ],
          "name": "stdout"
        }
      ]
    },
    {
      "metadata": {
        "id": "4KY8wiofh4b3",
        "colab_type": "code",
        "colab": {
          "base_uri": "https://localhost:8080/",
          "height": 376
        },
        "outputId": "eca3dd40-7e6a-4cfd-daf1-cec5481a9346"
      },
      "cell_type": "code",
      "source": [
        "ig, ax = plt.subplots()\n",
        "ax.scatter(best_real, best_pred, edgecolors=(0, 0, 0))\n",
        "ax.plot([best_real.min(), best_real.max()], [best_real.min(), best_real.max()], 'k--', lw=4)\n",
        "ax.set_xlabel('Measured')\n",
        "ax.set_ylabel('Predicted')\n",
        "ax.set_title('Real vs. Predicted for Linear Model')\n",
        "plt.show()"
      ],
      "execution_count": 26,
      "outputs": [
        {
          "output_type": "display_data",
          "data": {
            "image/png": "[encoded data removed]",
            "text/plain": [
              "<matplotlib.figure.Figure at 0x7f5d76d896a0>"
            ]
          },
          "metadata": {
            "tags": []
          }
        }
      ]
    },
    {
      "metadata": {
        "id": "STS3d5g_NDv-",
        "colab_type": "text"
      },
      "cell_type": "markdown",
      "source": [
        "## Support Vector Regression(SVR)"
      ]
    },
    {
      "metadata": {
        "id": "UVIQbqsvNB7Z",
        "colab_type": "code",
        "colab": {
          "base_uri": "https://localhost:8080/",
          "height": 231
        },
        "outputId": "8f7bad81-aa2e-404b-9aa8-fdc14560569d"
      },
      "cell_type": "code",
      "source": [
        "score = []\n",
        "mse = []\n",
        "\n",
        "for x in range(1000):\n",
        "  train, test = train_test_split(df, test_size = 0.2)\n",
        "\n",
        "  train_y = train['cereal production']\n",
        "  train_x = train.drop( 'cereal production', axis = 1)\n",
        "  \n",
        "  test_y = train['cereal production']\n",
        "  test_x = train.drop( 'cereal production', axis = 1)\n",
        "  \n",
        "  regr = SVR(C = 10, epsilon = 0.2, degree = 6)\n",
        "  \n",
        "  regr.fit(train_x, train_y)\n",
        "  \n",
        "  pred = regr.predict(test_x)\n",
        "  score.append(regr.score(test_x,test_y))\n",
        "  mse.append(metrics.mean_squared_error(test_y, pred))\n",
        "  \n",
        "  \n",
        "print(\"R-Squared:    {0} \\n\"\n",
        "      \"Mean-Squared: {1}\".format(np.mean(score),np.mean(mse)))"
      ],
      "execution_count": 1,
      "outputs": [
        {
          "output_type": "error",
          "ename": "NameError",
          "evalue": "ignored",
          "traceback": [
            "\u001b[0;31m---------------------------------------------------------------------------\u001b[0m",
            "\u001b[0;31mNameError\u001b[0m                                 Traceback (most recent call last)",
            "\u001b[0;32m<ipython-input-1-16afc907c7fd>\u001b[0m in \u001b[0;36m<module>\u001b[0;34m()\u001b[0m\n\u001b[1;32m      3\u001b[0m \u001b[0;34m\u001b[0m\u001b[0m\n\u001b[1;32m      4\u001b[0m \u001b[0;32mfor\u001b[0m \u001b[0mx\u001b[0m \u001b[0;32min\u001b[0m \u001b[0mrange\u001b[0m\u001b[0;34m(\u001b[0m\u001b[0;36m1000\u001b[0m\u001b[0;34m)\u001b[0m\u001b[0;34m:\u001b[0m\u001b[0;34m\u001b[0m\u001b[0m\n\u001b[0;32m----> 5\u001b[0;31m   \u001b[0mtrain\u001b[0m\u001b[0;34m,\u001b[0m \u001b[0mtest\u001b[0m \u001b[0;34m=\u001b[0m \u001b[0mtrain_test_split\u001b[0m\u001b[0;34m(\u001b[0m\u001b[0mdf\u001b[0m\u001b[0;34m,\u001b[0m \u001b[0mtest_size\u001b[0m \u001b[0;34m=\u001b[0m \u001b[0;36m0.2\u001b[0m\u001b[0;34m)\u001b[0m\u001b[0;34m\u001b[0m\u001b[0m\n\u001b[0m\u001b[1;32m      6\u001b[0m \u001b[0;34m\u001b[0m\u001b[0m\n\u001b[1;32m      7\u001b[0m   \u001b[0mtrain_y\u001b[0m \u001b[0;34m=\u001b[0m \u001b[0mtrain\u001b[0m\u001b[0;34m[\u001b[0m\u001b[0;34m'cereal production'\u001b[0m\u001b[0;34m]\u001b[0m\u001b[0;34m\u001b[0m\u001b[0m\n",
            "\u001b[0;31mNameError\u001b[0m: name 'train_test_split' is not defined"
          ]
        }
      ]
    }
  ]
}